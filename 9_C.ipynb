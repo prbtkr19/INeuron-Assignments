{
 "cells": [
  {
   "cell_type": "markdown",
   "id": "72a35e71",
   "metadata": {},
   "source": [
    "# 1. To what does a relative path refer?\n",
    "\n",
    "- A relative file path points to a file relative to the current page.\n",
    "\n"
   ]
  },
  {
   "cell_type": "markdown",
   "id": "e487d309",
   "metadata": {},
   "source": [
    "# 2. What does an absolute path start with your operating system?\n",
    "- absolute path start with root\n",
    "- An absolute path refers to the complete details needed to locate a file or folder, starting from the root element and ending with the other subdirectories. \n",
    "- Absolute paths are used in websites and operating systems for locating files and folders.\n",
    "\n",
    "- An absolute path is also known as an absolute pathname or full path."
   ]
  },
  {
   "cell_type": "markdown",
   "id": "243b39d6",
   "metadata": {},
   "source": [
    "# 3. What do the functions os.getcwd() and os.chdir() do?\n",
    "- CWD stands for Current Working Directory.\n",
    "- This function allows you to see what your current working directory is. chdir(\"path-to-dir\")\n"
   ]
  },
  {
   "cell_type": "code",
   "execution_count": 1,
   "id": "ca94c399",
   "metadata": {},
   "outputs": [
    {
     "data": {
      "text/plain": [
       "'C:\\\\Users\\\\prabh\\\\OneDrive\\\\Desktop\\\\INEURON\\\\Assignments\\\\Python-basic-Assi-Solutions'"
      ]
     },
     "execution_count": 1,
     "metadata": {},
     "output_type": "execute_result"
    }
   ],
   "source": [
    "import os\n",
    "os.getcwd()\n",
    "#gives current working directory"
   ]
  },
  {
   "cell_type": "code",
   "execution_count": 3,
   "id": "93fa9a9c",
   "metadata": {},
   "outputs": [
    {
     "name": "stdout",
     "output_type": "stream",
     "text": [
      "Directory changed\n"
     ]
    }
   ],
   "source": [
    "os.chdir(r\"C:\\\\Users\\\\prabh\\\\Onedrive\")\n",
    " \n",
    "print(\"Directory changed\")"
   ]
  },
  {
   "cell_type": "code",
   "execution_count": 4,
   "id": "ca749f2b",
   "metadata": {},
   "outputs": [
    {
     "data": {
      "text/plain": [
       "'C:\\\\Users\\\\prabh\\\\Onedrive'"
      ]
     },
     "execution_count": 4,
     "metadata": {},
     "output_type": "execute_result"
    }
   ],
   "source": [
    "os.getcwd()"
   ]
  },
  {
   "cell_type": "code",
   "execution_count": 5,
   "id": "60336f7a",
   "metadata": {},
   "outputs": [
    {
     "name": "stdout",
     "output_type": "stream",
     "text": [
      "directory changed\n"
     ]
    }
   ],
   "source": [
    "os.chdir('C:\\\\Users\\\\prabh\\\\OneDrive\\\\Desktop\\\\INEURON\\\\Assignments\\\\Python-basic-Assi-Solutions')\n",
    "print(\"directory changed\")"
   ]
  },
  {
   "cell_type": "markdown",
   "id": "69c21d71",
   "metadata": {},
   "source": [
    "# 4. What are the . and .. folders?\n",
    "\n",
    "- . refers to your current directory\n",
    "- .. refers to directory above it,  parent directory."
   ]
  },
  {
   "cell_type": "markdown",
   "id": "6609cefe",
   "metadata": {},
   "source": [
    "# 5. In C:\\bacon\\eggs\\spam.txt, which part is the dir name, and which part is the base name?\n",
    "\n",
    "- C:\\bacon\\eggs is directory name while spam is base name"
   ]
  },
  {
   "cell_type": "markdown",
   "id": "329419ef",
   "metadata": {},
   "source": [
    "# 6. What are the three “mode” arguments that can be passed to the open() function?\n",
    "\n",
    "- r : Opens the file in read-only mode.\n",
    "- rb : Opens the file as read-only in binary format and starts reading from the beginning of the file.\n",
    "- r+ : Opens a file for reading and writing, placing the pointer at the beginning of the file."
   ]
  },
  {
   "cell_type": "markdown",
   "id": "1ace3b91",
   "metadata": {},
   "source": [
    "# 7. What happens if an existing file is opened in write mode?\n",
    "\n",
    "-If a file with the same name already exists, its contents are discarded and the file is treated as a new empty file."
   ]
  },
  {
   "cell_type": "markdown",
   "id": "bb302626",
   "metadata": {},
   "source": [
    "# 8. How do you tell the difference between read() and readlines()?\n",
    "\n",
    "- read() reads the entire contents of the file into a string.\n",
    "- The readlines() function also reads from a file in read mode and returns a list of all lines in the file."
   ]
  },
  {
   "cell_type": "code",
   "execution_count": 13,
   "id": "4e4ebd21",
   "metadata": {},
   "outputs": [
    {
     "data": {
      "text/plain": [
       "'C:\\\\Users\\\\prabh\\\\OneDrive\\\\Desktop\\\\INEURON\\\\Assignments\\\\Python-basic-Assi-Solutions'"
      ]
     },
     "execution_count": 13,
     "metadata": {},
     "output_type": "execute_result"
    }
   ],
   "source": [
    "os.getcwd()"
   ]
  },
  {
   "cell_type": "code",
   "execution_count": 16,
   "id": "361e319d",
   "metadata": {},
   "outputs": [
    {
     "name": "stdout",
     "output_type": "stream",
     "text": [
      " Volume in drive C is Windows\n",
      " Volume Serial Number is A645-86C6\n",
      "\n",
      " Directory of C:\\Users\\prabh\\OneDrive\\Desktop\\INEURON\\Assignments\\Python-basic-Assi-Solutions\n",
      "\n",
      "15-03-2022  10:20    <DIR>          .\n",
      "15-03-2022  10:20    <DIR>          ..\n",
      "15-03-2022  09:00    <DIR>          .ipynb_checkpoints\n",
      "02-02-2022  11:32            20,430 Assignment_2_Solution.ipynb\n",
      "09-02-2022  20:19             2,467 Assignment_3_solution.ipynb\n",
      "02-03-2022  13:40            11,563 Assignment_4_Solution.ipynb\n",
      "07-03-2022  10:31            11,566 Assignment_6_Solution.ipynb\n",
      "14-03-2022  09:47            11,425 Assignment_7_Solution.ipynb\n",
      "14-03-2022  14:19            14,446 Assignment_8_Solution.ipynb\n",
      "15-03-2022  10:20             6,019 Assignment_9_Solution.ipynb\n",
      "01-02-2022  11:26             7,603 assignment1_solution.ipynb\n",
      "02-03-2022  14:31             5,805 Assignments_5_Solution.ipynb\n",
      "15-03-2022  10:16                35 test.txt.txt\n",
      "              10 File(s)         91,359 bytes\n",
      "               3 Dir(s)  323,719,135,232 bytes free\n"
     ]
    }
   ],
   "source": [
    "ls"
   ]
  },
  {
   "cell_type": "code",
   "execution_count": 18,
   "id": "a79652ed",
   "metadata": {},
   "outputs": [
    {
     "name": "stdout",
     "output_type": "stream",
     "text": [
      "first line\n",
      "\n"
     ]
    }
   ],
   "source": [
    "import os\n",
    "with open(\"test.txt\", \"r+\") as file:\n",
    "    line = file.readline()\n",
    "    print(line)"
   ]
  },
  {
   "cell_type": "code",
   "execution_count": 19,
   "id": "c6e74b46",
   "metadata": {},
   "outputs": [
    {
     "name": "stdout",
     "output_type": "stream",
     "text": [
      "first line\n",
      "second line\n",
      "third line\n"
     ]
    }
   ],
   "source": [
    "with open(\"test.txt\", \"r\") as file:\n",
    "    content = file.read()\n",
    "    print(content)"
   ]
  },
  {
   "cell_type": "markdown",
   "id": "1d71b377",
   "metadata": {},
   "source": [
    "# 9. What data structure does a shelf value resemble?\n",
    "- A shelf value resembles a dictionary value. \n",
    "- it has keys and values."
   ]
  },
  {
   "cell_type": "code",
   "execution_count": null,
   "id": "199f6353",
   "metadata": {},
   "outputs": [],
   "source": []
  }
 ],
 "metadata": {
  "kernelspec": {
   "display_name": "Python 3",
   "language": "python",
   "name": "python3"
  },
  "language_info": {
   "codemirror_mode": {
    "name": "ipython",
    "version": 3
   },
   "file_extension": ".py",
   "mimetype": "text/x-python",
   "name": "python",
   "nbconvert_exporter": "python",
   "pygments_lexer": "ipython3",
   "version": "3.8.8"
  }
 },
 "nbformat": 4,
 "nbformat_minor": 5
}
