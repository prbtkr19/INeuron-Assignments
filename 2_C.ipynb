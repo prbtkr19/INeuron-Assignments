{
 "cells": [
  {
   "cell_type": "markdown",
   "id": "8b1efcf3",
   "metadata": {},
   "source": [
    "# 1.What are the two values of the Boolean data type? How do you write them?"
   ]
  },
  {
   "cell_type": "markdown",
   "id": "9ca3f881",
   "metadata": {},
   "source": [
    "The two values of boolean data types : 0 and 1\n"
   ]
  },
  {
   "cell_type": "markdown",
   "id": "87fea33c",
   "metadata": {},
   "source": [
    "we write them as True and False"
   ]
  },
  {
   "cell_type": "markdown",
   "id": "0563c742",
   "metadata": {},
   "source": [
    "# 2. What are the three different types of Boolean operators?"
   ]
  },
  {
   "cell_type": "markdown",
   "id": "3851a932",
   "metadata": {},
   "source": [
    "three different boolean operators are and or not"
   ]
  },
  {
   "cell_type": "markdown",
   "id": "cfa278a5",
   "metadata": {},
   "source": [
    "# 3. Make a list of each Boolean operator's truth tables (i.e. every possible combination of Boolean values for the operator and what it evaluate )."
   ]
  },
  {
   "cell_type": "markdown",
   "id": "71e2a33d",
   "metadata": {},
   "source": [
    "## AND Truth Table\n"
   ]
  },
  {
   "cell_type": "markdown",
   "id": "75259440",
   "metadata": {},
   "source": [
    " x\tand\ty\tReturns\n"
   ]
  },
  {
   "cell_type": "markdown",
   "id": "0ba62097",
   "metadata": {},
   "source": [
    "True\tand\tTrue\tTrue\n"
   ]
  },
  {
   "cell_type": "markdown",
   "id": "7a74b400",
   "metadata": {},
   "source": [
    "True\tand\tFalse\tFalse\n"
   ]
  },
  {
   "cell_type": "markdown",
   "id": "5ad031d2",
   "metadata": {},
   "source": [
    "False\tand\tTrue\tFalse\n"
   ]
  },
  {
   "cell_type": "markdown",
   "id": "becf41b8",
   "metadata": {},
   "source": [
    "False\tand\tFalse\tFalse"
   ]
  },
  {
   "cell_type": "code",
   "execution_count": 7,
   "id": "b6244359",
   "metadata": {},
   "outputs": [
    {
     "data": {
      "text/plain": [
       "True"
      ]
     },
     "execution_count": 7,
     "metadata": {},
     "output_type": "execute_result"
    }
   ],
   "source": [
    "x =5 \n",
    "y = 7\n",
    "x ==5 and y ==7"
   ]
  },
  {
   "cell_type": "code",
   "execution_count": 8,
   "id": "b3b0403d",
   "metadata": {},
   "outputs": [
    {
     "data": {
      "text/plain": [
       "False"
      ]
     },
     "execution_count": 8,
     "metadata": {},
     "output_type": "execute_result"
    }
   ],
   "source": [
    "x ==5 and y == 6"
   ]
  },
  {
   "cell_type": "code",
   "execution_count": 9,
   "id": "964067aa",
   "metadata": {},
   "outputs": [
    {
     "data": {
      "text/plain": [
       "False"
      ]
     },
     "execution_count": 9,
     "metadata": {},
     "output_type": "execute_result"
    }
   ],
   "source": [
    "x ==3 and y ==7"
   ]
  },
  {
   "cell_type": "code",
   "execution_count": 10,
   "id": "f2a1ea04",
   "metadata": {},
   "outputs": [
    {
     "data": {
      "text/plain": [
       "False"
      ]
     },
     "execution_count": 10,
     "metadata": {},
     "output_type": "execute_result"
    }
   ],
   "source": [
    "x ==4 and y == 5"
   ]
  },
  {
   "cell_type": "markdown",
   "id": "c225a120",
   "metadata": {},
   "source": [
    "# OR Truth Table"
   ]
  },
  {
   "cell_type": "markdown",
   "id": "646c0445",
   "metadata": {},
   "source": [
    "True\tor\tTrue\t:True"
   ]
  },
  {
   "cell_type": "markdown",
   "id": "9ae40d67",
   "metadata": {},
   "source": [
    "True\tor\tFalse\t:True"
   ]
  },
  {
   "cell_type": "markdown",
   "id": "32d7f140",
   "metadata": {},
   "source": [
    "False\tor\tTrue\t:True"
   ]
  },
  {
   "cell_type": "markdown",
   "id": "a5c9786b",
   "metadata": {},
   "source": [
    "False\tor\tFalse\t:False"
   ]
  },
  {
   "cell_type": "code",
   "execution_count": 12,
   "id": "639666d2",
   "metadata": {},
   "outputs": [],
   "source": [
    "x =5\n",
    "y=9"
   ]
  },
  {
   "cell_type": "code",
   "execution_count": 13,
   "id": "33ea668b",
   "metadata": {},
   "outputs": [
    {
     "data": {
      "text/plain": [
       "True"
      ]
     },
     "execution_count": 13,
     "metadata": {},
     "output_type": "execute_result"
    }
   ],
   "source": [
    "x == 5 or y == 9"
   ]
  },
  {
   "cell_type": "code",
   "execution_count": 14,
   "id": "461244db",
   "metadata": {},
   "outputs": [
    {
     "data": {
      "text/plain": [
       "True"
      ]
     },
     "execution_count": 14,
     "metadata": {},
     "output_type": "execute_result"
    }
   ],
   "source": [
    "x ==5 or y ==10"
   ]
  },
  {
   "cell_type": "code",
   "execution_count": 15,
   "id": "2fae7409",
   "metadata": {},
   "outputs": [
    {
     "data": {
      "text/plain": [
       "True"
      ]
     },
     "execution_count": 15,
     "metadata": {},
     "output_type": "execute_result"
    }
   ],
   "source": [
    "x == 3 or y ==9"
   ]
  },
  {
   "cell_type": "code",
   "execution_count": 16,
   "id": "cab0ed96",
   "metadata": {},
   "outputs": [
    {
     "data": {
      "text/plain": [
       "False"
      ]
     },
     "execution_count": 16,
     "metadata": {},
     "output_type": "execute_result"
    }
   ],
   "source": [
    "x ==2 or y ==0"
   ]
  },
  {
   "cell_type": "markdown",
   "id": "760e4592",
   "metadata": {},
   "source": [
    "# NOT Truth Table"
   ]
  },
  {
   "cell_type": "markdown",
   "id": "e98a57c4",
   "metadata": {},
   "source": [
    "not\tTrue\t:False"
   ]
  },
  {
   "cell_type": "markdown",
   "id": "c39bb726",
   "metadata": {},
   "source": [
    "not\tFalse\t:True"
   ]
  },
  {
   "cell_type": "code",
   "execution_count": 20,
   "id": "db6b8fe1",
   "metadata": {},
   "outputs": [
    {
     "data": {
      "text/plain": [
       "False"
      ]
     },
     "execution_count": 20,
     "metadata": {},
     "output_type": "execute_result"
    }
   ],
   "source": [
    "not (5 > 4)\n"
   ]
  },
  {
   "cell_type": "markdown",
   "id": "c771d395",
   "metadata": {},
   "source": [
    "# 4. What are the values of the following expressions?"
   ]
  },
  {
   "cell_type": "code",
   "execution_count": 19,
   "id": "5bcbb2d2",
   "metadata": {},
   "outputs": [
    {
     "data": {
      "text/plain": [
       "False"
      ]
     },
     "execution_count": 19,
     "metadata": {},
     "output_type": "execute_result"
    }
   ],
   "source": [
    "(5 > 4) and (3 == 5)\n"
   ]
  },
  {
   "cell_type": "code",
   "execution_count": 21,
   "id": "071bf673",
   "metadata": {},
   "outputs": [
    {
     "data": {
      "text/plain": [
       "False"
      ]
     },
     "execution_count": 21,
     "metadata": {},
     "output_type": "execute_result"
    }
   ],
   "source": [
    "not (5 > 4)\n"
   ]
  },
  {
   "cell_type": "code",
   "execution_count": 22,
   "id": "3d14e14a",
   "metadata": {},
   "outputs": [
    {
     "data": {
      "text/plain": [
       "True"
      ]
     },
     "execution_count": 22,
     "metadata": {},
     "output_type": "execute_result"
    }
   ],
   "source": [
    "(5 > 4) or (3 == 5)\n"
   ]
  },
  {
   "cell_type": "code",
   "execution_count": 23,
   "id": "c4cd6bf2",
   "metadata": {},
   "outputs": [
    {
     "data": {
      "text/plain": [
       "False"
      ]
     },
     "execution_count": 23,
     "metadata": {},
     "output_type": "execute_result"
    }
   ],
   "source": [
    "not ((5 > 4) or (3 == 5))\n"
   ]
  },
  {
   "cell_type": "code",
   "execution_count": 24,
   "id": "409f98dd",
   "metadata": {},
   "outputs": [
    {
     "data": {
      "text/plain": [
       "False"
      ]
     },
     "execution_count": 24,
     "metadata": {},
     "output_type": "execute_result"
    }
   ],
   "source": [
    "(True and True) and (True == False)\n"
   ]
  },
  {
   "cell_type": "code",
   "execution_count": 25,
   "id": "aa3a455e",
   "metadata": {},
   "outputs": [
    {
     "data": {
      "text/plain": [
       "True"
      ]
     },
     "execution_count": 25,
     "metadata": {},
     "output_type": "execute_result"
    }
   ],
   "source": [
    "(not False) or (not True)\n"
   ]
  },
  {
   "cell_type": "markdown",
   "id": "4b943d49",
   "metadata": {},
   "source": [
    "# 5. What are the six comparison operators?"
   ]
  },
  {
   "cell_type": "markdown",
   "id": "baf3266f",
   "metadata": {},
   "source": [
    "Less than ( < )\n"
   ]
  },
  {
   "cell_type": "markdown",
   "id": "9a128690",
   "metadata": {},
   "source": [
    "Less than or equal to (<=)\n"
   ]
  },
  {
   "cell_type": "markdown",
   "id": "5fb1b7d3",
   "metadata": {},
   "source": [
    "Greater than (>)\n"
   ]
  },
  {
   "cell_type": "markdown",
   "id": "9f0475b1",
   "metadata": {},
   "source": [
    "Greater than or equal to (>=)\n"
   ]
  },
  {
   "cell_type": "markdown",
   "id": "110d61f5",
   "metadata": {},
   "source": [
    "Equal to ( == )\n"
   ]
  },
  {
   "cell_type": "markdown",
   "id": "0b4a4407",
   "metadata": {},
   "source": [
    "Not equal to ( != )"
   ]
  },
  {
   "cell_type": "code",
   "execution_count": 29,
   "id": "3b59c502",
   "metadata": {},
   "outputs": [
    {
     "data": {
      "text/plain": [
       "True"
      ]
     },
     "execution_count": 29,
     "metadata": {},
     "output_type": "execute_result"
    }
   ],
   "source": [
    "4 < 5"
   ]
  },
  {
   "cell_type": "code",
   "execution_count": 30,
   "id": "07d649e1",
   "metadata": {},
   "outputs": [
    {
     "data": {
      "text/plain": [
       "False"
      ]
     },
     "execution_count": 30,
     "metadata": {},
     "output_type": "execute_result"
    }
   ],
   "source": [
    "5 < 4"
   ]
  },
  {
   "cell_type": "code",
   "execution_count": 31,
   "id": "5ac6d2f0",
   "metadata": {},
   "outputs": [
    {
     "data": {
      "text/plain": [
       "True"
      ]
     },
     "execution_count": 31,
     "metadata": {},
     "output_type": "execute_result"
    }
   ],
   "source": [
    "4 <= 5"
   ]
  },
  {
   "cell_type": "code",
   "execution_count": 32,
   "id": "ea36056f",
   "metadata": {},
   "outputs": [
    {
     "data": {
      "text/plain": [
       "True"
      ]
     },
     "execution_count": 32,
     "metadata": {},
     "output_type": "execute_result"
    }
   ],
   "source": [
    "5 >4"
   ]
  },
  {
   "cell_type": "code",
   "execution_count": 33,
   "id": "f0327196",
   "metadata": {},
   "outputs": [
    {
     "data": {
      "text/plain": [
       "True"
      ]
     },
     "execution_count": 33,
     "metadata": {},
     "output_type": "execute_result"
    }
   ],
   "source": [
    "4!=3"
   ]
  },
  {
   "cell_type": "code",
   "execution_count": 34,
   "id": "8adb241e",
   "metadata": {},
   "outputs": [
    {
     "data": {
      "text/plain": [
       "True"
      ]
     },
     "execution_count": 34,
     "metadata": {},
     "output_type": "execute_result"
    }
   ],
   "source": [
    "4 == 4"
   ]
  },
  {
   "cell_type": "markdown",
   "id": "e04e5d59",
   "metadata": {},
   "source": [
    "# 6. How do you tell the difference between the equal to and assignment operators?Describe a condition and when you would use one."
   ]
  },
  {
   "cell_type": "code",
   "execution_count": 36,
   "id": "d80426e4",
   "metadata": {},
   "outputs": [],
   "source": [
    "#let say\n",
    "a = 5\n",
    "#its and assignment operatorassign value 5 to variable a"
   ]
  },
  {
   "cell_type": "code",
   "execution_count": 37,
   "id": "7c6b7b4f",
   "metadata": {},
   "outputs": [
    {
     "data": {
      "text/plain": [
       "5"
      ]
     },
     "execution_count": 37,
     "metadata": {},
     "output_type": "execute_result"
    }
   ],
   "source": [
    "a"
   ]
  },
  {
   "cell_type": "code",
   "execution_count": 38,
   "id": "65a6f273",
   "metadata": {},
   "outputs": [
    {
     "data": {
      "text/plain": [
       "True"
      ]
     },
     "execution_count": 38,
     "metadata": {},
     "output_type": "execute_result"
    }
   ],
   "source": [
    "#\"==\" operator verifieswhether two operamds are equalor not\n",
    "5 == 5"
   ]
  },
  {
   "cell_type": "markdown",
   "id": "a55276db",
   "metadata": {},
   "source": [
    "# 7. Identify the three blocks in this code:"
   ]
  },
  {
   "cell_type": "code",
   "execution_count": 42,
   "id": "586c9665",
   "metadata": {},
   "outputs": [
    {
     "name": "stdout",
     "output_type": "stream",
     "text": [
      "this is third block\n",
      "ham\n",
      "spam\n",
      "spam\n"
     ]
    }
   ],
   "source": [
    "spam = 0\n",
    "\n",
    "if spam == 10:\n",
    "    \n",
    "    print('eggs')\n",
    " #first block\n",
    "\n",
    "if spam > 5:\n",
    "    print('bacon')\n",
    " #second block\n",
    "else:\n",
    "    print(\"this is third block\")\n",
    "    print('ham')\n",
    "    print('spam')\n",
    "    print('spam')\n"
   ]
  },
  {
   "cell_type": "markdown",
   "id": "fcd25160",
   "metadata": {},
   "source": [
    "# 8. Write code that prints Hello if 1 is stored in spam, prints Howdy if 2 is stored in spam, and prints Greetings! if anything else is stored in spam."
   ]
  },
  {
   "cell_type": "code",
   "execution_count": 46,
   "id": "8a40b1ee",
   "metadata": {},
   "outputs": [
    {
     "name": "stdout",
     "output_type": "stream",
     "text": [
      "Hello\n"
     ]
    }
   ],
   "source": [
    "spam = 1\n",
    "if spam == 1:\n",
    "    print(\"Hello\")\n",
    "elif spam == 2:\n",
    "    print(\"Howdy\")\n",
    "else:\n",
    "    print(\"Greetings\")"
   ]
  },
  {
   "cell_type": "markdown",
   "id": "ad08557f",
   "metadata": {},
   "source": [
    "# 9.If your programme is stuck in an endless loop, what keys you’ll press?"
   ]
  },
  {
   "cell_type": "markdown",
   "id": "f4cc502a",
   "metadata": {},
   "source": [
    "ctrl plus c in a terminal or cmd\n"
   ]
  },
  {
   "cell_type": "markdown",
   "id": "fb576c48",
   "metadata": {},
   "source": [
    "or can use break statement"
   ]
  },
  {
   "cell_type": "markdown",
   "id": "416531de",
   "metadata": {},
   "source": [
    "# 10. How can you tell the difference between break and continue?"
   ]
  },
  {
   "cell_type": "markdown",
   "id": "7e8a3ab7",
   "metadata": {},
   "source": [
    "break and continue statements can alter the flow of a normal loop."
   ]
  },
  {
   "cell_type": "markdown",
   "id": "47b06adf",
   "metadata": {},
   "source": [
    "The break statement terminates the loop containing it. Control of the program flows to the statement immediately after the body of the loop."
   ]
  },
  {
   "cell_type": "code",
   "execution_count": 51,
   "id": "ddd5f40c",
   "metadata": {},
   "outputs": [
    {
     "name": "stdout",
     "output_type": "stream",
     "text": [
      "s\n",
      "t\n",
      "r\n"
     ]
    }
   ],
   "source": [
    "# Use of break statement inside the loop\n",
    "\n",
    "for val in \"string\":\n",
    "    if val == \"i\":\n",
    "        break\n",
    "    print(val)\n",
    "\n",
    "#print(\"The end\")"
   ]
  },
  {
   "cell_type": "markdown",
   "id": "d0068c7e",
   "metadata": {},
   "source": [
    "##### The continue statement is used to skip the rest of the code inside a loop for the current iteration only. Loop does not terminate but continues on with the next iteration."
   ]
  },
  {
   "cell_type": "code",
   "execution_count": 52,
   "id": "5f11d4e7",
   "metadata": {},
   "outputs": [
    {
     "name": "stdout",
     "output_type": "stream",
     "text": [
      "s\n",
      "t\n",
      "r\n",
      "n\n",
      "g\n"
     ]
    }
   ],
   "source": [
    "# Program to show the use of continue statement inside loops\n",
    "\n",
    "for val in \"string\":\n",
    "    if val == \"i\":\n",
    "        continue\n",
    "    print(val)\n",
    "\n",
    "#print(\"The end\")"
   ]
  },
  {
   "cell_type": "markdown",
   "id": "2887b6e4",
   "metadata": {},
   "source": [
    "# 11. In a for loop, what is the difference between range(10), range(0, 10), and range(0, 10, 1)?"
   ]
  },
  {
   "cell_type": "markdown",
   "id": "77b9810f",
   "metadata": {},
   "source": [
    "## The range() is an in-built function in Python. It returns a sequence of numbers starting from zero and increment by 1 by default and stops before the given number."
   ]
  },
  {
   "cell_type": "code",
   "execution_count": 53,
   "id": "95733407",
   "metadata": {},
   "outputs": [
    {
     "name": "stdout",
     "output_type": "stream",
     "text": [
      "0\n",
      "1\n",
      "2\n",
      "3\n",
      "4\n",
      "5\n",
      "6\n",
      "7\n",
      "8\n",
      "9\n"
     ]
    }
   ],
   "source": [
    "for i in range(10):\n",
    "    print(i)\n",
    "#it will print 10 numbers from 0 to 9 excluding given number"
   ]
  },
  {
   "cell_type": "code",
   "execution_count": 55,
   "id": "b0a99a47",
   "metadata": {},
   "outputs": [
    {
     "name": "stdout",
     "output_type": "stream",
     "text": [
      "0\n",
      "1\n",
      "2\n",
      "3\n",
      "4\n",
      "5\n",
      "6\n",
      "7\n",
      "8\n",
      "9\n"
     ]
    }
   ],
   "source": [
    "for i in range(0,10):\n",
    "    print(i)"
   ]
  },
  {
   "cell_type": "code",
   "execution_count": 59,
   "id": "246df5ac",
   "metadata": {},
   "outputs": [
    {
     "name": "stdout",
     "output_type": "stream",
     "text": [
      "0\n",
      "1\n",
      "2\n",
      "3\n",
      "4\n",
      "5\n",
      "6\n",
      "7\n",
      "8\n",
      "9\n"
     ]
    }
   ],
   "source": [
    "for i in range(0,10,1):\n",
    "    print(i)\n",
    "#it willalos print thesabe above result but if we increasde the jump from 1 to 2 it will print "
   ]
  },
  {
   "cell_type": "code",
   "execution_count": 60,
   "id": "8dccd2d4",
   "metadata": {},
   "outputs": [
    {
     "name": "stdout",
     "output_type": "stream",
     "text": [
      "0\n",
      "2\n",
      "4\n",
      "6\n",
      "8\n"
     ]
    }
   ],
   "source": [
    "for i in range(0,10,2):\n",
    "    print(i)"
   ]
  },
  {
   "cell_type": "markdown",
   "id": "2be80079",
   "metadata": {},
   "source": [
    "# 12. Write a short program that prints the numbers 1 to 10 using a for loop. Then write an equivalent program that prints the numbers 1 to 10 using a while loop."
   ]
  },
  {
   "cell_type": "code",
   "execution_count": 61,
   "id": "e05a7a43",
   "metadata": {},
   "outputs": [
    {
     "name": "stdout",
     "output_type": "stream",
     "text": [
      "0\n",
      "1\n",
      "2\n",
      "3\n",
      "4\n",
      "5\n",
      "6\n",
      "7\n",
      "8\n",
      "9\n"
     ]
    }
   ],
   "source": [
    "for i in range(10):\n",
    "    print(i)"
   ]
  },
  {
   "cell_type": "code",
   "execution_count": null,
   "id": "b42578b4",
   "metadata": {},
   "outputs": [],
   "source": [
    "i = 0\n",
    "#while i<10:\n",
    "    #print(i)\n",
    "    #break\n",
    "    "
   ]
  },
  {
   "cell_type": "code",
   "execution_count": 1,
   "id": "69f22fce",
   "metadata": {},
   "outputs": [
    {
     "name": "stdout",
     "output_type": "stream",
     "text": [
      "0\n",
      "1\n",
      "2\n",
      "3\n",
      "4\n",
      "5\n",
      "6\n",
      "7\n",
      "8\n",
      "9\n",
      "10\n"
     ]
    }
   ],
   "source": [
    "i = 0\n",
    "while(i<=10):\n",
    "    print(i)\n",
    "    i += 1"
   ]
  },
  {
   "cell_type": "markdown",
   "id": "fd5d0d78",
   "metadata": {},
   "source": [
    "# 13. If you had a function named bacon() inside a module named spam, how would you call it after importing spam?"
   ]
  },
  {
   "cell_type": "code",
   "execution_count": null,
   "id": "36be4c20",
   "metadata": {},
   "outputs": [],
   "source": [
    "#first import thaty module\n",
    "import spam\n",
    "x = spam.bacon()"
   ]
  },
  {
   "cell_type": "code",
   "execution_count": null,
   "id": "b9754ca4",
   "metadata": {},
   "outputs": [],
   "source": []
  }
 ],
 "metadata": {
  "kernelspec": {
   "display_name": "Python 3",
   "language": "python",
   "name": "python3"
  },
  "language_info": {
   "codemirror_mode": {
    "name": "ipython",
    "version": 3
   },
   "file_extension": ".py",
   "mimetype": "text/x-python",
   "name": "python",
   "nbconvert_exporter": "python",
   "pygments_lexer": "ipython3",
   "version": "3.8.8"
  }
 },
 "nbformat": 4,
 "nbformat_minor": 5
}
