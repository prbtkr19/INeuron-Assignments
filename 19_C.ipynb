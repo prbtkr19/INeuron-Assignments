{
 "cells": [
  {
   "cell_type": "code",
   "execution_count": 1,
   "id": "d5f1b4bb-43ea-4c4e-a1b5-18dee77545ab",
   "metadata": {},
   "outputs": [
    {
     "name": "stdout",
     "output_type": "stream",
     "text": [
      "<class '__main__.Thing'>\n",
      "<__main__.Thing object at 0x0000021BE920B190>\n"
     ]
    }
   ],
   "source": [
    "#1. Make a class called Thing with no contents and print it.\n",
    "#Then, create an object called example from this class and also print it. Are the printed values the same or different?\n",
    "\n",
    "class Thing:\n",
    "    pass\n",
    "example = Thing()\n",
    "print(Thing)\n",
    "print(example)\n",
    "\n",
    "#different values"
   ]
  },
  {
   "cell_type": "code",
   "execution_count": 3,
   "id": "58980c17",
   "metadata": {},
   "outputs": [
    {
     "name": "stdout",
     "output_type": "stream",
     "text": [
      "abc\n"
     ]
    }
   ],
   "source": [
    "#2. Create a new class called Thing2 and add the value 'abc' to the letters class attribute. Letters should be printed.\n",
    "\n",
    "class Thing2:\n",
    "    def __init__(self,letters):\n",
    "        self.letters = letters\n",
    "    def __str__(self):\n",
    "        return self.letters\n",
    "obj1 = Thing2(\"abc\")\n",
    "print(obj1)"
   ]
  },
  {
   "cell_type": "code",
   "execution_count": 5,
   "id": "ef2bbfe5",
   "metadata": {},
   "outputs": [
    {
     "name": "stdout",
     "output_type": "stream",
     "text": [
      "xyz\n"
     ]
    }
   ],
   "source": [
    "#3. Make yet another class called, of course, Thing3. This time, assign the value 'xyz' to an instance (object) attribute called letters. Print letters. \n",
    "#Do you need to make an object from the class to do this?\n",
    "\n",
    "class Things3:\n",
    "    def __init__(self,letters):\n",
    "        self.letters = letters\n",
    "    def __str__(self):\n",
    "        return self.letters\n",
    "obj2 = Things3(\"xyz\")\n",
    "print(obj2)"
   ]
  },
  {
   "cell_type": "code",
   "execution_count": 7,
   "id": "bcac8108",
   "metadata": {},
   "outputs": [
    {
     "name": "stdout",
     "output_type": "stream",
     "text": [
      "<__main__.Element object at 0x0000021BE9F329A0>\n"
     ]
    }
   ],
   "source": [
    "#4. Create an Element class with the instance attributes name, symbol, and number. \n",
    "#Create a class object with the values 'Hydrogen,' 'H,' and 1.\n",
    "class Element:\n",
    "    def __init__(self,name,symbol,number):\n",
    "        self.name = name\n",
    "        self.symbol = symbol\n",
    "        self.number = number\n",
    "obj = Element(\"Hydrogen\",\"H\",1)\n",
    "print(obj)"
   ]
  },
  {
   "cell_type": "code",
   "execution_count": 23,
   "id": "ef5962d6",
   "metadata": {},
   "outputs": [],
   "source": [
    "#5. Make a dictionary with these keys and values: 'name': 'Hydrogen', 'symbol': 'H', 'number': 1. \n",
    "#Then, create an object called hydrogen from class Element using this dictionary.\n",
    "class Element:\n",
    "    def __init__(self,name,symbol,number):\n",
    "        self.name = name\n",
    "        self.symbol = symbol\n",
    "        self.number = number\n",
    "dict = {'name':'Hydrogen',\"symbol\":'H',\"number\":1}\n",
    "hydrogen = Element(dict['name'],dict[\"symbol\"],dict[\"number\"])"
   ]
  },
  {
   "cell_type": "code",
   "execution_count": 25,
   "id": "ed304fb2",
   "metadata": {},
   "outputs": [
    {
     "name": "stdout",
     "output_type": "stream",
     "text": [
      "name=Hydrogen, symbol=H, number=1\n"
     ]
    }
   ],
   "source": [
    "#6. For the Element class, define a method called dump() that prints the values of the object’s attributes (name, symbol, and number).\n",
    "#Create the hydrogen object from this new definition and use dump() to print its attributes.\n",
    "\n",
    "class Element:\n",
    "    def __init__(self, name, symbol, number):\n",
    "        self.name = name\n",
    "        self.symbol = symbol\n",
    "        self.number = number\n",
    "    def dump(self):\n",
    "        print('name=%s, symbol=%s, number=%d' %(self.name, self.symbol, self.number))\n",
    "hydrogen = Element(**dict)\n",
    "hydrogen.dump()\n"
   ]
  },
  {
   "cell_type": "code",
   "execution_count": 21,
   "id": "81a400bb",
   "metadata": {},
   "outputs": [
    {
     "name": "stdout",
     "output_type": "stream",
     "text": [
      "<__main__.Element object at 0x0000021BEA7464F0>\n"
     ]
    }
   ],
   "source": [
    "#7. Call print(hydrogen). In the definition of Element, change the name of method dump to __str__, create a new hydrogen object, and call print(hydrogen) again.\n",
    "\n",
    "\n",
    "print(hydrogen)"
   ]
  },
  {
   "cell_type": "code",
   "execution_count": 22,
   "id": "903aeced",
   "metadata": {},
   "outputs": [
    {
     "ename": "NameError",
     "evalue": "name 'el_dict' is not defined",
     "output_type": "error",
     "traceback": [
      "\u001b[1;31m---------------------------------------------------------------------------\u001b[0m",
      "\u001b[1;31mNameError\u001b[0m                                 Traceback (most recent call last)",
      "Input \u001b[1;32mIn [22]\u001b[0m, in \u001b[0;36m<cell line: 9>\u001b[1;34m()\u001b[0m\n\u001b[0;32m      6\u001b[0m     \u001b[38;5;28;01mdef\u001b[39;00m \u001b[38;5;21m__str__\u001b[39m(\u001b[38;5;28mself\u001b[39m):\n\u001b[0;32m      7\u001b[0m         \u001b[38;5;28;01mreturn\u001b[39;00m (\u001b[38;5;124m'\u001b[39m\u001b[38;5;124mname=\u001b[39m\u001b[38;5;132;01m%s\u001b[39;00m\u001b[38;5;124m, symbol=\u001b[39m\u001b[38;5;132;01m%s\u001b[39;00m\u001b[38;5;124m, number=\u001b[39m\u001b[38;5;132;01m%s\u001b[39;00m\u001b[38;5;124m'\u001b[39m \u001b[38;5;241m%\u001b[39m(\u001b[38;5;28mself\u001b[39m\u001b[38;5;241m.\u001b[39mname, \u001b[38;5;28mself\u001b[39m\u001b[38;5;241m.\u001b[39msymbol, \u001b[38;5;28mself\u001b[39m\u001b[38;5;241m.\u001b[39mnumber))\n\u001b[1;32m----> 9\u001b[0m hydrogen \u001b[38;5;241m=\u001b[39m Element(\u001b[38;5;241m*\u001b[39m\u001b[38;5;241m*\u001b[39m\u001b[43mel_dict\u001b[49m)\n\u001b[0;32m     10\u001b[0m \u001b[38;5;28mprint\u001b[39m(hydrogen)\n",
      "\u001b[1;31mNameError\u001b[0m: name 'el_dict' is not defined"
     ]
    }
   ],
   "source": [
    "class Element:\n",
    "    def __init__(self, name, symbol, number):\n",
    "        self.name = name\n",
    "        self.symbol = symbol\n",
    "        self.number = number\n",
    "    def __str__(self):\n",
    "        return ('name=%s, symbol=%s, number=%s' %(self.name, self.symbol, self.number))\n",
    "\n",
    "hydrogen = Element(**edict)\n",
    "print(hydrogen)"
   ]
  },
  {
   "cell_type": "code",
   "execution_count": 19,
   "id": "54e8bed6",
   "metadata": {},
   "outputs": [],
   "source": [
    "#8. Modify Element to make the attributes name, symbol, and number private. Define a getter property for each to return its value.\n",
    "class Element:\n",
    "    def __init__(self, name, symbol, number):\n",
    "        self.__name = name\n",
    "        self.__symbol = symbol\n",
    "        self.__number = number\n",
    "    @property    \n",
    "    def name(self):\n",
    "        return self.__name\n",
    "    @property\n",
    "    def symbol(self):\n",
    "        return self.__symbol\n",
    "    @property\n",
    "    def number(self):\n",
    "        return self.__number\n",
    "hydrogen = Element('Hydrogen', 'H', 1)"
   ]
  },
  {
   "cell_type": "code",
   "execution_count": 20,
   "id": "f58972bf",
   "metadata": {},
   "outputs": [
    {
     "data": {
      "text/plain": [
       "'Hydrogen'"
      ]
     },
     "execution_count": 20,
     "metadata": {},
     "output_type": "execute_result"
    }
   ],
   "source": [
    "hydrogen.name\n"
   ]
  },
  {
   "cell_type": "code",
   "execution_count": 16,
   "id": "2668574f",
   "metadata": {},
   "outputs": [],
   "source": [
    "#9. Define three classes: Bear, Rabbit, and Octothorpe. For each, define only one method: eats(). This should return 'berries' (Bear), 'clover' (Rabbit), or 'campers' (Octothorpe). Create one object from each and print what it eats.\n",
    "\n",
    "class Bear:\n",
    "    def eats(self):\n",
    "        return 'berries'\n",
    "    \n",
    "class Rabbit:\n",
    "    def eats(self):\n",
    "        return 'clover'\n",
    "\n",
    "class Octothorpe:\n",
    "    def eats(self):\n",
    "        return 'campers'\n",
    "    \n",
    "b = Bear()\n",
    "r = Rabbit()\n",
    "o = Octothorpe()"
   ]
  },
  {
   "cell_type": "code",
   "execution_count": 17,
   "id": "dd331622",
   "metadata": {},
   "outputs": [
    {
     "name": "stdout",
     "output_type": "stream",
     "text": [
      "berries\n",
      "clover\n",
      "campers\n"
     ]
    }
   ],
   "source": [
    "print(b.eats())\n",
    "print(r.eats())\n",
    "print(o.eats())"
   ]
  },
  {
   "cell_type": "code",
   "execution_count": 11,
   "id": "74c50ff2",
   "metadata": {},
   "outputs": [],
   "source": [
    "#10. Define these classes: Laser, Claw, and SmartPhone. Each has only one method: does(). \n",
    "#This returns 'disintegrate' (Laser), 'crush' (Claw), or 'ring' (SmartPhone). \n",
    "#Then, define the class Robot that has one instance (object) of each of these.\n",
    "#Define a does() method for the Robot that prints what its component objects do.\n",
    "\n",
    "\n",
    "class Laser:\n",
    "    def does(self):\n",
    "        return 'disintegrate'\n",
    "\n",
    "class Claw:\n",
    "    def does(self):\n",
    "        return 'crush'\n",
    "    \n",
    "class SmartPhone:\n",
    "    def does(self):\n",
    "        return 'ring'\n",
    "    \n",
    "class Robot:\n",
    "    def __init__(self):\n",
    "        self.laser = Laser()\n",
    "        self.claw = Claw()\n",
    "        self.smartphone = SmartPhone()\n",
    "        \n",
    "    def does(self):\n",
    "        return '''I have many attachments:\n",
    "        My laser, to %s.\n",
    "        My claw, to %s.\n",
    "        My smartphone, to %s.''' % (self.laser.does(),self.claw.does(),self.smartphone.does() )\n"
   ]
  },
  {
   "cell_type": "code",
   "execution_count": 12,
   "id": "20a83fcf",
   "metadata": {},
   "outputs": [],
   "source": [
    "robo = Robot()"
   ]
  },
  {
   "cell_type": "code",
   "execution_count": 14,
   "id": "afb51750",
   "metadata": {},
   "outputs": [
    {
     "name": "stdout",
     "output_type": "stream",
     "text": [
      "I have many attachments:\n",
      "        My laser, to disintegrate.\n",
      "        My claw, to crush.\n",
      "        My smartphone, to ring.\n"
     ]
    }
   ],
   "source": [
    "print(robo.does())"
   ]
  },
  {
   "cell_type": "code",
   "execution_count": null,
   "id": "abb01096",
   "metadata": {},
   "outputs": [],
   "source": []
  }
 ],
 "metadata": {
  "kernelspec": {
   "display_name": "Python 3 (ipykernel)",
   "language": "python",
   "name": "python3"
  },
  "language_info": {
   "codemirror_mode": {
    "name": "ipython",
    "version": 3
   },
   "file_extension": ".py",
   "mimetype": "text/x-python",
   "name": "python",
   "nbconvert_exporter": "python",
   "pygments_lexer": "ipython3",
   "version": "3.8.8"
  }
 },
 "nbformat": 4,
 "nbformat_minor": 5
}
