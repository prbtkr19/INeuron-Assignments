{
 "cells": [
  {
   "cell_type": "markdown",
   "id": "2f792cd3",
   "metadata": {},
   "source": [
    "### Q1. What is a probability distribution, exactly? If the values are meant to be random, how can you predict them at all?\n",
    "\n",
    "- A probability distribution is a list of all of the possible outcomes of a random variable, along with its corresponding probability values\n",
    "-dividing the random number by total number of its occurencces in a event we can predict probability."
   ]
  },
  {
   "cell_type": "markdown",
   "id": "54813e72",
   "metadata": {},
   "source": [
    "##### Q2. Is there a distinction between true random numbers and pseudo-random numbers, if there is one?\n",
    "# Why are the latter considered “good enough”?\n",
    "\n",
    "\n",
    "- TRNGs use an unpredictable physical means to generate numbers (like atmospheric noise), and PRNGs use mathematical algorithms (completely computer-generated).\n"
   ]
  },
  {
   "cell_type": "markdown",
   "id": "2082b267",
   "metadata": {},
   "source": [
    "#### Q3. What are the two main factors that influence the behaviour of a \"normal\" probability distribution?\n",
    "\n",
    "\n",
    "\n",
    "The graph of the normal distribution depends on two factors - \n",
    "- the mean \n",
    "- the standard deviation. \n",
    "The mean of the distribution determines the location of the center of the graph, and the standard deviation determines the height and width of the graph."
   ]
  },
  {
   "cell_type": "markdown",
   "id": "ad59f58a",
   "metadata": {},
   "source": [
    "#### Q4. Provide a real-life example of a normal distribution.\n",
    "\n",
    "\n",
    "- height of a population\n",
    "- rolling a dice\n",
    "- tossing a coin\n"
   ]
  },
  {
   "cell_type": "code",
   "execution_count": null,
   "id": "d525385c",
   "metadata": {},
   "outputs": [],
   "source": [
    "# Q5. In the short term, how can you expect a probability distribution to behave?\n",
    "# What do you think will happen as the number of trials grows?\n",
    "\n",
    "\n",
    "- A probability distribution is a statistical function that describes all the possible values and likelihoods that a random variable can take within a given range"
   ]
  },
  {
   "cell_type": "code",
   "execution_count": null,
   "id": "83c2fdba",
   "metadata": {},
   "outputs": [],
   "source": [
    "# Q6. What kind of object can be shuffled by using random.shuffle?\n",
    "\n",
    "- random.shuffle takes list as a argument or any mutable object and reorganise its contents to generate a new list.\n",
    "- it wont take strings and tuple as it is immutable\n",
    "\n"
   ]
  },
  {
   "cell_type": "markdown",
   "id": "d06ef2b8",
   "metadata": {},
   "source": [
    "#### Q7. Describe the math package's general categories of functions.\n",
    "\n",
    "- Arithmetic function\n",
    "\n",
    "- Power functions\n",
    "- logarithmic functions\n"
   ]
  },
  {
   "cell_type": "markdown",
   "id": "1363427b",
   "metadata": {},
   "source": [
    "#### Q8. What is the relationship between exponentiation and logarithms?\n",
    "\n",
    "\n",
    "- Logarithmic functions are the inverses of exponential functions. The inverse of the exponential function y = ax is x = ay. \n",
    "- The logarithmic function y = logax is defined to be equivalent to the exponential equation x = ay\n"
   ]
  },
  {
   "cell_type": "markdown",
   "id": "b1103682",
   "metadata": {},
   "source": [
    "#### Q9. What are the three logarithmic functions that Python supports?\n",
    "\n",
    "Different logarithmic function that python support is\n",
    "- 1. log(a,(Base)) : This function is used to compute the natural logarithm (Base e) of a. If 2 arguments are passed, it computes the logarithm of the desired base of argument a, numerically value of log(a)/log(Base).\n",
    "- 2.log2(a) : This function is used to compute the logarithm base 2 of a. Displays more accurate result than log(a,2).\n",
    "- 3. log10(a) : This function is used to compute the logarithm base 10 of a. Displays more accurate result than log(a,10).\n",
    "- 4.log1p(a) : This function is used to compute logarithm(1+a) . "
   ]
  },
  {
   "cell_type": "code",
   "execution_count": null,
   "id": "ea059cf7",
   "metadata": {},
   "outputs": [],
   "source": []
  }
 ],
 "metadata": {
  "kernelspec": {
   "display_name": "Python 3 (ipykernel)",
   "language": "python",
   "name": "python3"
  },
  "language_info": {
   "codemirror_mode": {
    "name": "ipython",
    "version": 3
   },
   "file_extension": ".py",
   "mimetype": "text/x-python",
   "name": "python",
   "nbconvert_exporter": "python",
   "pygments_lexer": "ipython3",
   "version": "3.8.8"
  }
 },
 "nbformat": 4,
 "nbformat_minor": 5
}
