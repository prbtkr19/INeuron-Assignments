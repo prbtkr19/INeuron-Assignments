{
 "cells": [
  {
   "cell_type": "markdown",
   "id": "0faa4519",
   "metadata": {},
   "source": [
    "# 1. What exactly is []?"
   ]
  },
  {
   "cell_type": "markdown",
   "id": "2559dd73",
   "metadata": {},
   "source": [
    "###### It denotes a empty list"
   ]
  },
  {
   "cell_type": "markdown",
   "id": "37bcf5d1",
   "metadata": {},
   "source": [
    "# 2. In a list of values stored in a variable called spam, how would you assign the value 'hello' as the third value? (Assume [2, 4, 6, 8, 10] are in spam.)"
   ]
  },
  {
   "cell_type": "code",
   "execution_count": 3,
   "id": "290df5c5",
   "metadata": {},
   "outputs": [],
   "source": [
    "spam = [2,4,6,8,10]\n",
    "spam[2] = 'hello'"
   ]
  },
  {
   "cell_type": "code",
   "execution_count": 4,
   "id": "9c309843",
   "metadata": {},
   "outputs": [
    {
     "data": {
      "text/plain": [
       "[2, 4, 'hello', 8, 10]"
      ]
     },
     "execution_count": 4,
     "metadata": {},
     "output_type": "execute_result"
    }
   ],
   "source": [
    "spam"
   ]
  },
  {
   "cell_type": "markdown",
   "id": "5e2b2e97",
   "metadata": {},
   "source": [
    "spam"
   ]
  },
  {
   "cell_type": "markdown",
   "id": "334e6551",
   "metadata": {},
   "source": [
    "# 3. What is the value of spam[int(int('3' * 2) / 11)]?"
   ]
  },
  {
   "cell_type": "code",
   "execution_count": 11,
   "id": "3534e87c",
   "metadata": {},
   "outputs": [],
   "source": [
    "spam = [\"a\",\"b\",\"c\",\"d\"]"
   ]
  },
  {
   "cell_type": "code",
   "execution_count": 12,
   "id": "410cff21",
   "metadata": {},
   "outputs": [
    {
     "data": {
      "text/plain": [
       "3"
      ]
     },
     "execution_count": 12,
     "metadata": {},
     "output_type": "execute_result"
    }
   ],
   "source": [
    "int(int('3' * 2) / 11)"
   ]
  },
  {
   "cell_type": "code",
   "execution_count": 14,
   "id": "add8d105",
   "metadata": {},
   "outputs": [
    {
     "data": {
      "text/plain": [
       "'d'"
      ]
     },
     "execution_count": 14,
     "metadata": {},
     "output_type": "execute_result"
    }
   ],
   "source": [
    "spam[int(int('3' * 2) / 11)]"
   ]
  },
  {
   "cell_type": "markdown",
   "id": "167dfadb",
   "metadata": {},
   "source": [
    "# 4. What is the value of spam[-1]?"
   ]
  },
  {
   "cell_type": "code",
   "execution_count": 15,
   "id": "df7879bb",
   "metadata": {},
   "outputs": [
    {
     "data": {
      "text/plain": [
       "'d'"
      ]
     },
     "execution_count": 15,
     "metadata": {},
     "output_type": "execute_result"
    }
   ],
   "source": [
    "spam[-1]"
   ]
  },
  {
   "cell_type": "markdown",
   "id": "08878e65",
   "metadata": {},
   "source": [
    "# 5. What is the value of spam[:2]?"
   ]
  },
  {
   "cell_type": "code",
   "execution_count": 16,
   "id": "9f9a1d1f",
   "metadata": {},
   "outputs": [
    {
     "data": {
      "text/plain": [
       "['a', 'b']"
      ]
     },
     "execution_count": 16,
     "metadata": {},
     "output_type": "execute_result"
    }
   ],
   "source": [
    "spam[:2]"
   ]
  },
  {
   "cell_type": "code",
   "execution_count": 19,
   "id": "9cbe988f",
   "metadata": {},
   "outputs": [],
   "source": [
    "bacon = [3.14, 'cat' ,11, 'cat', True] "
   ]
  },
  {
   "cell_type": "markdown",
   "id": "34c0bf0b",
   "metadata": {},
   "source": [
    "# 6. What is the value of bacon.index('cat')?"
   ]
  },
  {
   "cell_type": "code",
   "execution_count": 20,
   "id": "e68332fa",
   "metadata": {},
   "outputs": [
    {
     "data": {
      "text/plain": [
       "1"
      ]
     },
     "execution_count": 20,
     "metadata": {},
     "output_type": "execute_result"
    }
   ],
   "source": [
    "bacon.index('cat')"
   ]
  },
  {
   "cell_type": "markdown",
   "id": "20bdd505",
   "metadata": {},
   "source": [
    "# 7. How does bacon.append(99) change the look of the list value in bacon?"
   ]
  },
  {
   "cell_type": "code",
   "execution_count": 21,
   "id": "52a85694",
   "metadata": {},
   "outputs": [],
   "source": [
    "bacon.append(99)"
   ]
  },
  {
   "cell_type": "code",
   "execution_count": 22,
   "id": "dcdcc539",
   "metadata": {},
   "outputs": [
    {
     "data": {
      "text/plain": [
       "[3.14, 'cat', 11, 'cat', True, 99]"
      ]
     },
     "execution_count": 22,
     "metadata": {},
     "output_type": "execute_result"
    }
   ],
   "source": [
    "bacon"
   ]
  },
  {
   "cell_type": "markdown",
   "id": "88ad5baf",
   "metadata": {},
   "source": [
    "# 8. How does bacon.remove('cat') change the look of the list in bacon?"
   ]
  },
  {
   "cell_type": "code",
   "execution_count": 23,
   "id": "742a5b37",
   "metadata": {},
   "outputs": [],
   "source": [
    "bacon.remove('cat')"
   ]
  },
  {
   "cell_type": "code",
   "execution_count": 24,
   "id": "cc1ead03",
   "metadata": {},
   "outputs": [
    {
     "data": {
      "text/plain": [
       "[3.14, 11, 'cat', True, 99]"
      ]
     },
     "execution_count": 24,
     "metadata": {},
     "output_type": "execute_result"
    }
   ],
   "source": [
    "bacon"
   ]
  },
  {
   "cell_type": "markdown",
   "id": "9c772441",
   "metadata": {},
   "source": [
    "# 9. What are the list concatenation and list replication operators?"
   ]
  },
  {
   "cell_type": "markdown",
   "id": "9a67888a",
   "metadata": {},
   "source": [
    "#### The operator for list concatenation is +, while the operator for replication is *"
   ]
  },
  {
   "cell_type": "markdown",
   "id": "e0472f06",
   "metadata": {},
   "source": [
    "# 10. What is difference between the list methods append() and insert()?"
   ]
  },
  {
   "cell_type": "code",
   "execution_count": null,
   "id": "410de10c",
   "metadata": {},
   "outputs": [],
   "source": [
    "append(): adds the data at the end of list\n",
    "while insert() adds the data at the position you want"
   ]
  },
  {
   "cell_type": "markdown",
   "id": "b2759afa",
   "metadata": {},
   "source": [
    "# 11. What are the two methods for removing items from a list?"
   ]
  },
  {
   "cell_type": "markdown",
   "id": "3050a2df",
   "metadata": {},
   "source": [
    "##### remove():Python removes () method is a built-in method available with the list. \n"
   ]
  },
  {
   "cell_type": "markdown",
   "id": "1be8ad83",
   "metadata": {},
   "source": [
    "##### It helps to remove the given very first element matching from the list.\n",
    "\n"
   ]
  },
  {
   "cell_type": "markdown",
   "id": "edf8e9e1",
   "metadata": {},
   "source": [
    "##### pop():The pop() method removes an element from the list based on the index given.\n",
    "    list.pop(index)"
   ]
  },
  {
   "cell_type": "markdown",
   "id": "4ea28722",
   "metadata": {},
   "source": [
    "# 12. Describe how list values and string values are identical"
   ]
  },
  {
   "cell_type": "markdown",
   "id": "ee1f5551",
   "metadata": {},
   "source": [
    "#### both are ordered collections of characters."
   ]
  },
  {
   "cell_type": "markdown",
   "id": "936e538f",
   "metadata": {},
   "source": [
    "# 13. What's the difference between tuples and lists?"
   ]
  },
  {
   "cell_type": "markdown",
   "id": "8be844b7",
   "metadata": {},
   "source": [
    "## tuples are immutable whereas lists are mutable.\n"
   ]
  },
  {
   "cell_type": "markdown",
   "id": "9fa99044",
   "metadata": {},
   "source": [
    "##### Implication of iterations is Time-consuming in list"
   ]
  },
  {
   "cell_type": "markdown",
   "id": "c723a5dc",
   "metadata": {},
   "source": [
    "##### Implication of iterations is fast in tuple"
   ]
  },
  {
   "cell_type": "markdown",
   "id": "c5a3b8b6",
   "metadata": {},
   "source": [
    "##### Lists consume more memory"
   ]
  },
  {
   "cell_type": "markdown",
   "id": "40893acd",
   "metadata": {},
   "source": [
    "# 14. How do you type a tuple value that only contains the integer 42?"
   ]
  },
  {
   "cell_type": "code",
   "execution_count": 31,
   "id": "e9d82323",
   "metadata": {},
   "outputs": [],
   "source": [
    "s = (42,)"
   ]
  },
  {
   "cell_type": "code",
   "execution_count": 32,
   "id": "fed8137e",
   "metadata": {},
   "outputs": [
    {
     "data": {
      "text/plain": [
       "(42,)"
      ]
     },
     "execution_count": 32,
     "metadata": {},
     "output_type": "execute_result"
    }
   ],
   "source": [
    "s"
   ]
  },
  {
   "cell_type": "markdown",
   "id": "a68d1db9",
   "metadata": {},
   "source": [
    "# 15. How do you get a list value's tuple form? How do you get a tuple value's list form?"
   ]
  },
  {
   "cell_type": "code",
   "execution_count": 33,
   "id": "8ccb171c",
   "metadata": {},
   "outputs": [],
   "source": [
    "a = [1,2,3]"
   ]
  },
  {
   "cell_type": "code",
   "execution_count": 34,
   "id": "f2903c61",
   "metadata": {},
   "outputs": [],
   "source": [
    "s= tuple(a)"
   ]
  },
  {
   "cell_type": "code",
   "execution_count": 35,
   "id": "80124b03",
   "metadata": {},
   "outputs": [
    {
     "data": {
      "text/plain": [
       "(1, 2, 3)"
      ]
     },
     "execution_count": 35,
     "metadata": {},
     "output_type": "execute_result"
    }
   ],
   "source": [
    "s"
   ]
  },
  {
   "cell_type": "code",
   "execution_count": 36,
   "id": "d672f165",
   "metadata": {},
   "outputs": [],
   "source": [
    "t = (12,23,45)"
   ]
  },
  {
   "cell_type": "code",
   "execution_count": 38,
   "id": "5a2eada6",
   "metadata": {},
   "outputs": [
    {
     "data": {
      "text/plain": [
       "[12, 23, 45]"
      ]
     },
     "execution_count": 38,
     "metadata": {},
     "output_type": "execute_result"
    }
   ],
   "source": [
    "l = list(t)\n",
    "l"
   ]
  },
  {
   "cell_type": "code",
   "execution_count": null,
   "id": "5a9f5768",
   "metadata": {},
   "outputs": [],
   "source": []
  },
  {
   "cell_type": "markdown",
   "id": "d11ceeff",
   "metadata": {},
   "source": [
    "# 16. Variables that \"contain\" list values are not necessarily lists themselves. Instead, what do they contain?"
   ]
  },
  {
   "cell_type": "markdown",
   "id": "de57fde8",
   "metadata": {},
   "source": [
    "##### a = [4,5,6]\n",
    "Variables will contain references to list values rather than list values themselves. But for strings and integer values, variables simply contain the string or integer value."
   ]
  },
  {
   "cell_type": "markdown",
   "id": "97d6e6c8",
   "metadata": {},
   "source": [
    "# 17. How do you distinguish between copy.copy() and copy.deepcopy()?"
   ]
  },
  {
   "cell_type": "markdown",
   "id": "c070c076",
   "metadata": {},
   "source": [
    "###### in case of shallow copy, a reference of object is copied in other object. \n",
    "It means that any changes made to a copy of object do reflect in the original object. \n",
    "In python, this is implemented using “copy()” function.\n",
    "the copy() returns a shallow copy of list and deepcopy() return a deep copy of list."
   ]
  },
  {
   "cell_type": "code",
   "execution_count": null,
   "id": "3c01d294",
   "metadata": {},
   "outputs": [],
   "source": []
  }
 ],
 "metadata": {
  "kernelspec": {
   "display_name": "Python 3",
   "language": "python",
   "name": "python3"
  },
  "language_info": {
   "codemirror_mode": {
    "name": "ipython",
    "version": 3
   },
   "file_extension": ".py",
   "mimetype": "text/x-python",
   "name": "python",
   "nbconvert_exporter": "python",
   "pygments_lexer": "ipython3",
   "version": "3.8.8"
  }
 },
 "nbformat": 4,
 "nbformat_minor": 5
}
