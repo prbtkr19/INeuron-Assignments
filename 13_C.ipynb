{
 "cells": [
  {
   "cell_type": "markdown",
   "id": "fc2a608f",
   "metadata": {},
   "source": [
    "# 1.What advantages do Excel spreadsheets have over CSV spreadsheets?\n",
    "\n",
    "- Excel is more superior when compared with the CSV file format;\n",
    "- thus, CSV consumes less amount of file size when the user is importing data;\n",
    "- it is a much faster format compared to excel. \n",
    "- CSV does not manipulate data and stores it as-is.\n",
    "- Excel also allows the user the add-in feature."
   ]
  },
  {
   "cell_type": "code",
   "execution_count": 16,
   "id": "60398705",
   "metadata": {},
   "outputs": [
    {
     "name": "stdout",
     "output_type": "stream",
     "text": [
      "<_csv.reader object at 0x000002635E1D1400>\n",
      "['SN,24,Protagonist']\n",
      "['SN1,25,Protag']\n"
     ]
    }
   ],
   "source": [
    "#What do you pass to csv.reader() and csv.writer() to create reader and writer objects?\n",
    "import csv\n",
    "with open('people.csv', 'r') as file:\n",
    "    reader = csv.reader(file, delimiter = '\\t')\n",
    "    print(reader)\n",
    "    for row in reader:\n",
    "        print(row)\n",
    "    \n",
    "\n"
   ]
  },
  {
   "cell_type": "code",
   "execution_count": 9,
   "id": "b757a2d4",
   "metadata": {},
   "outputs": [
    {
     "name": "stdout",
     "output_type": "stream",
     "text": [
      "['SN', '24', 'Protagonist']\n"
     ]
    }
   ],
   "source": [
    "#for passing w as write object\n",
    "import csv\n",
    "with open('people.csv', 'w', newline='') as file:\n",
    "    writer = csv.writer(file)\n",
    "    writer.writerow([\"SN\", \"24\", \"Protagonist\"])\n",
    "with open('people.csv',\"r\") as file1:\n",
    "    csv = csv.reader(file1)\n",
    "    for i in csv:\n",
    "        print(i)"
   ]
  },
  {
   "cell_type": "markdown",
   "id": "a547b19d",
   "metadata": {},
   "source": [
    "# 3. What modes do File objects for reader and writer objects need to be opened in?\n",
    "- File objects must be opened in read mode for reading\n",
    "- and file objects must be opened in write mode for writing"
   ]
  },
  {
   "cell_type": "code",
   "execution_count": 13,
   "id": "402c35cc",
   "metadata": {},
   "outputs": [],
   "source": [
    "#What method takes a list argument and writes it to a CSV file?\n",
    "#writerows() method\n",
    "with open('people.csv', 'w', newline='') as file:\n",
    "    writer = csv.writer(file)\n",
    "    writer.writerow([\"SN\", \"24\", \"Protagonist\"])\n",
    "    writer.writerow([\"SN1\", \"25\", \"Protag\"])\n"
   ]
  },
  {
   "cell_type": "markdown",
   "id": "0c874b0f",
   "metadata": {},
   "source": [
    "# What do the keyword arguments delimiter and line terminator do?\n",
    "- The line terminator is the character that comes at the end of a row By default, the line terminator is a newline.\n",
    "- delimiter is a character that identifies the beginning or the end of a character string."
   ]
  },
  {
   "cell_type": "code",
   "execution_count": 9,
   "id": "b3ec5832",
   "metadata": {},
   "outputs": [
    {
     "name": "stdout",
     "output_type": "stream",
     "text": [
      "{\"name\": \"John\", \"age\": 31, \"Salary\": 25000}\n"
     ]
    }
   ],
   "source": [
    "#6. What function takes a string of JSON data and returns a Python data structure?\n",
    "import json\n",
    " \n",
    "# {key:value mapping}\n",
    "a ={\"name\":\"John\",\n",
    "   \"age\":31,\n",
    "    \"Salary\":25000}\n",
    " \n",
    "# conversion to JSON done by dumps() function\n",
    "b = json.dumps(a)\n",
    " \n",
    "# printing the output\n",
    "print(b)"
   ]
  },
  {
   "cell_type": "markdown",
   "id": "e9605377",
   "metadata": {},
   "source": [
    "# What function takes a Python data structure and returns a string of JSON data?\n",
    "\n",
    "- json.loads() method can be used to parse a valid JSON string and convert it into a Python Dictionary. \n",
    "- It is mainly used for deserializing native string, byte, or byte array which consists of JSON data into Python Dictionary."
   ]
  },
  {
   "cell_type": "code",
   "execution_count": 6,
   "id": "502d3a60",
   "metadata": {},
   "outputs": [
    {
     "name": "stdout",
     "output_type": "stream",
     "text": [
      "{'Name': 'Jennifer Smith', 'Contact Number': 7867567898, 'Email': 'jen123@gmail.com', 'Hobbies': ['Reading', 'Sketching', 'Horse Riding']}\n"
     ]
    }
   ],
   "source": [
    "import json\n",
    "x = \"\"\"{\n",
    "    \"Name\": \"Jennifer Smith\",\n",
    "    \"Contact Number\": 7867567898,\n",
    "    \"Email\": \"jen123@gmail.com\",\n",
    "    \"Hobbies\":[\"Reading\", \"Sketching\", \"Horse Riding\"]\n",
    "    }\"\"\"\n",
    "y = json.loads(x)\n",
    "print(y)"
   ]
  },
  {
   "cell_type": "code",
   "execution_count": null,
   "id": "7d379496",
   "metadata": {},
   "outputs": [],
   "source": []
  },
  {
   "cell_type": "code",
   "execution_count": null,
   "id": "a0222acf",
   "metadata": {},
   "outputs": [],
   "source": []
  }
 ],
 "metadata": {
  "kernelspec": {
   "display_name": "Python 3 (ipykernel)",
   "language": "python",
   "name": "python3"
  },
  "language_info": {
   "codemirror_mode": {
    "name": "ipython",
    "version": 3
   },
   "file_extension": ".py",
   "mimetype": "text/x-python",
   "name": "python",
   "nbconvert_exporter": "python",
   "pygments_lexer": "ipython3",
   "version": "3.8.8"
  }
 },
 "nbformat": 4,
 "nbformat_minor": 5
}
