{
 "cells": [
  {
   "cell_type": "markdown",
   "id": "41a6f63d",
   "metadata": {},
   "source": [
    "# 1. What is the name of the feature responsible for generating Regex objects?\n",
    "\n",
    " re. compile() function is responsible for generating Regex objects\n"
   ]
  },
  {
   "cell_type": "markdown",
   "id": "113822c8",
   "metadata": {},
   "source": [
    "# 2. Why do raw strings often appear in Regex objects?\n",
    "- Raw strings are used so that backslashes do not have to be escaped.\n",
    "- raw string notation (r\"text\") keeps regular expressions meaningful and confusion-free."
   ]
  },
  {
   "cell_type": "markdown",
   "id": "825cec3c",
   "metadata": {},
   "source": [
    "# 3. What is the return value of the search() method?\n",
    "- The re.search() function takes two parameters and returns a match object if there is a match.\n",
    "- If there is more than one match, only the first occurrence of the match will be returned.\n",
    "- If no matches are found, the value None is returned"
   ]
  },
  {
   "cell_type": "markdown",
   "id": "f0b08079",
   "metadata": {},
   "source": [
    "# 4. From a Match item, how do you get the actual strings that match the pattern?\n",
    "    -Steps of Regular Expression Matching\n",
    "- Import the regex module with import re.\n",
    "- Create a Regex object with the re.compile() function\n",
    "- Pass the string you want to search into the Regex object’s search() method. This returns a Match object.\n",
    "- Call the Match object’s group() method to return a string of the actual matched text\n"
   ]
  },
  {
   "cell_type": "code",
   "execution_count": 14,
   "id": "61c04d04",
   "metadata": {},
   "outputs": [
    {
     "name": "stdout",
     "output_type": "stream",
     "text": [
      "<re.Match object; span=(13, 23), match='7251095175'>\n"
     ]
    }
   ],
   "source": [
    "# Python program to illustrate\n",
    "# Matching regex objects \n",
    "import re\n",
    "phoneNumRegex = re.compile(r'7251095175')\n",
    "mobile = phoneNumRegex.search('My number is 7251095175')\n",
    "print(mobile)"
   ]
  },
  {
   "cell_type": "code",
   "execution_count": 15,
   "id": "4237b49b",
   "metadata": {},
   "outputs": [
    {
     "name": "stdout",
     "output_type": "stream",
     "text": [
      "415\n"
     ]
    }
   ],
   "source": [
    "# Python program to illustrate\n",
    "# Matching regex objects\n",
    "# with grouping \n",
    "import re\n",
    "phoneNumRegex = re.compile(r'(\\d\\d\\d)-(\\d\\d\\d-\\d\\d\\d\\d)')\n",
    "mo = phoneNumRegex.search('My number is 415-555-4242.')\n",
    "print(mo.group(1))"
   ]
  },
  {
   "cell_type": "markdown",
   "id": "c97ceef7",
   "metadata": {},
   "source": [
    "# 5. In the regex which created from the r'(\\d\\d\\d)-(\\d\\d\\d-\\d\\d\\d\\d)', what does group zero cover? Group 2? Group 1?\n"
   ]
  },
  {
   "cell_type": "code",
   "execution_count": 16,
   "id": "db5bf168",
   "metadata": {},
   "outputs": [
    {
     "name": "stdout",
     "output_type": "stream",
     "text": [
      "415-555-4242\n",
      "415\n",
      "555-4242\n"
     ]
    }
   ],
   "source": [
    "# Python program to illustrate\n",
    "# Matching regex objects\n",
    "# with grouping \n",
    "import re\n",
    "phoneNumRegex = re.compile(r'(\\d\\d\\d)-(\\d\\d\\d-\\d\\d\\d\\d)')\n",
    "mo = phoneNumRegex.search('My number is 415-555-4242.')\n",
    "print(mo.group(0))\n",
    "print(mo.group(1))\n",
    "print(mo.group(2))\n"
   ]
  },
  {
   "cell_type": "markdown",
   "id": "3b6df0e8",
   "metadata": {},
   "source": [
    "# 6. In standard expression syntax, parentheses and intervals have distinct meanings. How can you tell a regex that you want it to fit real parentheses and periods?\n",
    "- Periods and parentheses can be escaped with a backslash: \\., \\(, and \\)."
   ]
  },
  {
   "cell_type": "markdown",
   "id": "f335fceb",
   "metadata": {},
   "source": [
    "# 7. The findall() method returns a string list or a list of string tuples. What causes it to return one of the two options?\n",
    "\n",
    "- If the regex has no groups, a list of strings is returned. \n",
    "- If the regex has groups, a list of tuples of strings is returned.\n"
   ]
  },
  {
   "cell_type": "markdown",
   "id": "e12939a0",
   "metadata": {},
   "source": [
    "# 8. In standard expressions, what does the | character mean?\n",
    "\n",
    "- The | character signifies matching \"either, or\" between two groups."
   ]
  },
  {
   "cell_type": "markdown",
   "id": "5fd29e91",
   "metadata": {},
   "source": [
    "# 9. In regular expressions, what does the   ?character stand for?\n",
    "\n",
    "- The ? character can either mean \"match zero or one of the preceding group\" or be used to signify nongreedy matching.\n"
   ]
  },
  {
   "cell_type": "markdown",
   "id": "1fdde6f2",
   "metadata": {},
   "source": [
    "# 10.In regular expressions, what is the difference between the + and * characters?\n",
    "\n",
    "\n",
    "- The + matches one or more. The * matches zero or more.\n"
   ]
  },
  {
   "cell_type": "markdown",
   "id": "70ff47ea",
   "metadata": {},
   "source": [
    "# 11. What is the difference between {4} and {4,5} in regular expression?\n",
    "\n",
    "- The {4} matches exactly four instances of the preceding group. \n",
    "- The {4,5} matches between three and five instances"
   ]
  },
  {
   "cell_type": "markdown",
   "id": "d7d5f24a",
   "metadata": {},
   "source": [
    "# 12. What do you mean by the \\d, \\w, and \\s shorthand character classes signify in regular expressions?\n",
    "\n",
    "- \n",
    "- The \\d, \\w, and \\s shorthand character classes match a single digit, word, or space character, respectively."
   ]
  },
  {
   "cell_type": "markdown",
   "id": "f46e81af",
   "metadata": {},
   "source": [
    "# 14. What is the difference between .*? and .*?\n",
    "\n",
    " - The . performs a greedy match, and the .? performs a nongreedy match."
   ]
  },
  {
   "cell_type": "markdown",
   "id": "623d387a",
   "metadata": {},
   "source": [
    "# 15. What is the syntax for matching both numbers and lowercase letters with a character class?\n",
    "\n",
    " - Either [0-9a-z] or [a-z0-9]"
   ]
  },
  {
   "cell_type": "markdown",
   "id": "2f044472",
   "metadata": {},
   "source": [
    "# 16. What is the procedure for making a normal expression in regax case insensitive?\n",
    "\n",
    "- Use re. IGNORECASE to do case insensitive regular expressions"
   ]
  },
  {
   "cell_type": "markdown",
   "id": "d8b2c711",
   "metadata": {},
   "source": [
    "# 17. What does the . character normally match? What does it match if re.DOTALL is passed as 2nd argument in re.compile()?\n",
    "\n",
    "- character normally matches any character except the newline character. \n",
    "- If re. DOTALL is passed as the second argument to re. compile(), then the dot will also match newline characters."
   ]
  },
  {
   "cell_type": "markdown",
   "id": "a605a941",
   "metadata": {},
   "source": [
    "# 18. If numReg = re.compile(r'\\d+'), what will numRegex.sub('X', '11 drummers, 10 pipers, five rings, 4 hen') return?\n"
   ]
  },
  {
   "cell_type": "markdown",
   "id": "fa9d4d62",
   "metadata": {},
   "source": [
    "# 19. What does passing re.VERBOSE as the 2nd argument to re.compile() allow to do?\n",
    "\n",
    "- The re. VERBOSE argument allows you to add whitespace and comments to the string passed to re."
   ]
  },
  {
   "cell_type": "markdown",
   "id": "e80fc54e",
   "metadata": {},
   "source": [
    "# 20. How would you write a regex that match a number with comma for every three digits? It must match the given following:\n",
    "- '42'\n",
    "- '1,234'\n",
    "- '6,368,745'\n",
    "- but not the following:\n",
    "- '12,34,567' (which has only two digits between the commas)\n",
    "- '1234' (which lacks commas)\n"
   ]
  },
  {
   "cell_type": "code",
   "execution_count": 3,
   "id": "65674d2c",
   "metadata": {},
   "outputs": [],
   "source": [
    "match = re.compile(r\"^\\d{1,3}(,(\\d{3}))*$\")"
   ]
  },
  {
   "cell_type": "markdown",
   "id": "3d88acfc",
   "metadata": {},
   "source": [
    "# 21. How would you write a regex that matches the full name of someone whose last name is Watanabe? You can assume that the first name that comes before it will always be one word that begins with a capital letter. The regex must match the following:\n",
    "- 'Haruto Watanabe'\n",
    "- 'Alice Watanabe'\n",
    "- 'RoboCop Watanabe'\n",
    "- but not the following:\n",
    "- 'haruto Watanabe' (where the first name is not capitalized)\n",
    "- 'Mr. Watanabe' (where the preceding word has a nonletter character)\n",
    "- 'Watanabe' (which has no first name)\n",
    "- 'Haruto watanabe' (where Watanabe is not capitalized)\n"
   ]
  },
  {
   "cell_type": "code",
   "execution_count": 5,
   "id": "2da80148",
   "metadata": {},
   "outputs": [
    {
     "name": "stdout",
     "output_type": "stream",
     "text": [
      "\"test Haruto Watanable test\" matches\n",
      "\"test Alice Watanable test\" matches\n",
      "\"test Robocop Watanable test\" matches\n",
      "\"test roboCop Nakamoto test\" does not match\n"
     ]
    }
   ],
   "source": [
    "import re\n",
    "\n",
    "def printMatch(name):\n",
    "    pat = re.compile(r'\\b[A-Z][a-zA-Z]+\\sWatanable')\n",
    "    if pat.search(name):\n",
    "        print('\"'+name+'\" matches')\n",
    "    else:\n",
    "        print('\"'+name+'\" does not match')\n",
    "\n",
    "printMatch('test Haruto Watanable test')\n",
    "printMatch('test Alice Watanable test')\n",
    "printMatch('test Robocop Watanable test')\n",
    "printMatch('test roboCop Nakamoto test')"
   ]
  },
  {
   "cell_type": "markdown",
   "id": "c50301eb",
   "metadata": {},
   "source": [
    "# 22. How would you write a regex that matches a sentence where the first word is either Alice, Bob, or Carol; the second word is either eats, pets, or throws; the third word is apples, cats, or baseballs; and the sentence ends with a period? This regex should be case-insensitive. It must match the following:\n",
    "- 'Alice eats apples.'\n",
    "- 'Bob pets cats.'\n",
    "- 'Carol throws baseballs.'\n",
    "- 'Alice throws Apples.'\n",
    "- 'BOB EATS CATS.'\n",
    "- but not the following:\n",
    "- 'RoboCop eats apples.'\n",
    "- 'ALICE THROWS FOOTBALLS.'\n",
    "- 'Carol eats 7 cats.'"
   ]
  },
  {
   "cell_type": "code",
   "execution_count": 2,
   "id": "a6afc7ba",
   "metadata": {},
   "outputs": [],
   "source": [
    "import re\n",
    "sentenceMatchRegex = re.compile(r'''\n",
    "(Alice|Bob|Carol)\\s                 \n",
    "(eats|pets|throws)\\s\n",
    "(apples|cats|baseballs)\n",
    "''', re.VERBOSE|re.I)"
   ]
  },
  {
   "cell_type": "code",
   "execution_count": null,
   "id": "cdced18e",
   "metadata": {},
   "outputs": [],
   "source": []
  }
 ],
 "metadata": {
  "kernelspec": {
   "display_name": "Python 3",
   "language": "python",
   "name": "python3"
  },
  "language_info": {
   "codemirror_mode": {
    "name": "ipython",
    "version": 3
   },
   "file_extension": ".py",
   "mimetype": "text/x-python",
   "name": "python",
   "nbconvert_exporter": "python",
   "pygments_lexer": "ipython3",
   "version": "3.8.8"
  }
 },
 "nbformat": 4,
 "nbformat_minor": 5
}
