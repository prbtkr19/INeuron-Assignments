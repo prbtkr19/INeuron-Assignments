{
 "cells": [
  {
   "cell_type": "markdown",
   "id": "d26e5127",
   "metadata": {},
   "source": [
    "# Q1. What is the distinction between a numpy array and a pandas data frame?\n",
    "Is there a way to convert between the two if there is?\n",
    "\n",
    "\n",
    "- Numpy arrays can be multi-dimensional whereas DataFrame can only be two-dimensional.\n",
    "\n",
    "- Arrays contain similar types of objects or elements whereas DataFrame can have objects or multiple or similar data types.\n",
    "- Both array and DataFrames are mutable.\n",
    "- Elements in an array can be accessed using only integer positions whereas elements in a DataFrame can be accessed using both integer and index positions.\n",
    "- DataFrames are mostly in the form of SQL tables and are associated with tabular data whereas arrays are associated with numerical data and computation.\n",
    "- DataFrames can deal with dynamic data and mixed data types whereas arrays do not have the flexibility to handle such data\n"
   ]
  },
  {
   "cell_type": "code",
   "execution_count": 8,
   "id": "0f9752f2",
   "metadata": {},
   "outputs": [
    {
     "name": "stdout",
     "output_type": "stream",
     "text": [
      "[[ 1  2  3]\n",
      " [ 3 24  1]]\n",
      "<class 'numpy.ndarray'>\n",
      "------------------------------------\n",
      "converting numpy to dataframe:\n",
      "   Column_A  Column_B  Column_C\n",
      "0         1         2         3\n",
      "1         3        24         1\n",
      "<class 'pandas.core.frame.DataFrame'>\n",
      "[INFO] converting dataframe to numpy:\n",
      "[[ 1  2  3]\n",
      " [ 3 24  1]]\n"
     ]
    }
   ],
   "source": [
    "# Numpy array to pandas dataframe\n",
    "#defining numpy array\n",
    "import numpy as np\n",
    "arr = np.array([[1,2,3],[3,24,1]])\n",
    "arr\n",
    "print(arr)\n",
    "print(type(arr))\n",
    "print(\"------------------------------------\")\n",
    "print(\"converting numpy to dataframe:\")\n",
    "import pandas as pd\n",
    "\n",
    "df = pd.DataFrame(arr, columns = ['Column_A','Column_B','Column_C'])\n",
    "\n",
    "print(df)\n",
    "print(type(df))\n",
    "\n",
    "print(\"[INFO] converting dataframe to numpy:\")\n",
    "array = np.array(df)\n",
    "print(array)"
   ]
  },
  {
   "cell_type": "code",
   "execution_count": null,
   "id": "774bf096",
   "metadata": {},
   "outputs": [],
   "source": [
    "Q2. What can go wrong when an user enters in a stock-ticker symbol, and how do you handle it?\n",
    "\n",
    "\n",
    "\n"
   ]
  },
  {
   "cell_type": "code",
   "execution_count": null,
   "id": "05ee063a",
   "metadata": {},
   "outputs": [],
   "source": [
    "#Q3. Identify some of the plotting techniques that are used to produce a stock-market chart.\n",
    "\n",
    "#line chart\n",
    "#bar chart\n",
    "#candlestick chart\n",
    "\n"
   ]
  },
  {
   "cell_type": "code",
   "execution_count": null,
   "id": "f7b8b2df",
   "metadata": {},
   "outputs": [],
   "source": [
    "#Q4. Why is it essential to print a legend on a stock market chart?\n",
    "\n",
    "The legend displays information about the points that are currently hovered over or display information about datapooints\n",
    "\n"
   ]
  },
  {
   "cell_type": "code",
   "execution_count": 9,
   "id": "4b83bcd7",
   "metadata": {},
   "outputs": [
    {
     "name": "stdout",
     "output_type": "stream",
     "text": [
      "<class 'pandas.core.frame.DataFrame'>\n",
      "RangeIndex: 193 entries, 0 to 192\n",
      "Data columns (total 6 columns):\n",
      " #   Column                        Non-Null Count  Dtype  \n",
      "---  ------                        --------------  -----  \n",
      " 0   country                       193 non-null    object \n",
      " 1   beer_servings                 193 non-null    int64  \n",
      " 2   spirit_servings               193 non-null    int64  \n",
      " 3   wine_servings                 193 non-null    int64  \n",
      " 4   total_litres_of_pure_alcohol  193 non-null    float64\n",
      " 5   continent                     193 non-null    object \n",
      "dtypes: float64(1), int64(3), object(2)\n",
      "memory usage: 30.5 KB\n",
      "None\n"
     ]
    }
   ],
   "source": [
    "#Q5. What is the best way to limit the length of a pandas data frame to less than a year?\n",
    "\n",
    "\n",
    "import pandas as pd\n",
    "\n",
    "drinks = pd.read_csv('http://bit.ly/drinksbycountry')\n",
    "print(drinks.info(memory_usage='deep'))\n"
   ]
  },
  {
   "cell_type": "code",
   "execution_count": null,
   "id": "8d63d886",
   "metadata": {},
   "outputs": [],
   "source": [
    "#Q6. What is the definition of a 180-day moving average?\n",
    "\n",
    "A moving average (MA) is a technical analysis indicator that helps smooth out price action by filtering out the “noise” from random price fluctuations.\n",
    "\n"
   ]
  },
  {
   "cell_type": "code",
   "execution_count": null,
   "id": "868e745e",
   "metadata": {},
   "outputs": [],
   "source": [
    "#Q7. Did the chapter's final example use \"indirect\" importing? If so, how exactly do you do it?\n",
    "\n"
   ]
  }
 ],
 "metadata": {
  "kernelspec": {
   "display_name": "Python 3 (ipykernel)",
   "language": "python",
   "name": "python3"
  },
  "language_info": {
   "codemirror_mode": {
    "name": "ipython",
    "version": 3
   },
   "file_extension": ".py",
   "mimetype": "text/x-python",
   "name": "python",
   "nbconvert_exporter": "python",
   "pygments_lexer": "ipython3",
   "version": "3.8.8"
  }
 },
 "nbformat": 4,
 "nbformat_minor": 5
}
