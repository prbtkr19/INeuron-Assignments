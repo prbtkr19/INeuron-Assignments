{
 "cells": [
  {
   "cell_type": "code",
   "execution_count": null,
   "id": "f15b3548-c113-4c04-846b-e08306749352",
   "metadata": {},
   "outputs": [],
   "source": [
    "Q1. If you have any, what are your choices for increasing the comparison between different figures on the same graph?\n",
    "\n",
    "\n",
    "\n",
    "Q2. Can you explain the benefit of compound interest over a higher rate of interest that does not compound after reading this chapter?\n",
    "\n",
    "\n",
    "\n",
    "Q3. What is a histogram, exactly? Name a numpy method for creating such a graph.\n",
    "\n",
    "\n",
    "\n",
    "Q4. If necessary, how do you change the aspect ratios between the X and Y axes?\n",
    "\n",
    "\n",
    "\n",
    "Q5. Compare and contrast the three types of array multiplication between two numpy arrays: dot product, outer product, and regular multiplication of two numpy arrays.\n",
    "\n",
    "\n",
    "\n",
    "Q6. Before you buy a home, which numpy function will you use to measure your monthly mortgage payment?\n",
    "\n",
    "\n",
    "\n",
    "Q7. Can string data be stored in numpy arrays? If so, list at least one restriction that applies to this data.\n"
   ]
  }
 ],
 "metadata": {
  "kernelspec": {
   "display_name": "Python 3 (ipykernel)",
   "language": "python",
   "name": "python3"
  },
  "language_info": {
   "codemirror_mode": {
    "name": "ipython",
    "version": 3
   },
   "file_extension": ".py",
   "mimetype": "text/x-python",
   "name": "python",
   "nbconvert_exporter": "python",
   "pygments_lexer": "ipython3",
   "version": "3.8.8"
  }
 },
 "nbformat": 4,
 "nbformat_minor": 5
}
