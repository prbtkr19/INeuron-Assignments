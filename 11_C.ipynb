{
 "cells": [
  {
   "cell_type": "markdown",
   "id": "21da2a05",
   "metadata": {},
   "source": [
    "# 1. Create an assert statement that throws an AssertionError if the variable spam is a negative integer.\n",
    "spam = -3\n",
    "assert spam >=10"
   ]
  },
  {
   "cell_type": "code",
   "execution_count": 2,
   "id": "bbc31c23",
   "metadata": {},
   "outputs": [
    {
     "name": "stderr",
     "output_type": "stream",
     "text": [
      "<>:1: SyntaxWarning: assertion is always true, perhaps remove parentheses?\n",
      "<>:1: SyntaxWarning: assertion is always true, perhaps remove parentheses?\n",
      "<ipython-input-2-030bcc69922e>:1: SyntaxWarning: assertion is always true, perhaps remove parentheses?\n",
      "  assert(spam >= 10, 'The spam variable is less than 10.')\n"
     ]
    },
    {
     "ename": "NameError",
     "evalue": "name 'spam' is not defined",
     "output_type": "error",
     "traceback": [
      "\u001b[1;31m---------------------------------------------------------------------------\u001b[0m",
      "\u001b[1;31mNameError\u001b[0m                                 Traceback (most recent call last)",
      "\u001b[1;32m<ipython-input-2-030bcc69922e>\u001b[0m in \u001b[0;36m<module>\u001b[1;34m\u001b[0m\n\u001b[1;32m----> 1\u001b[1;33m \u001b[1;32massert\u001b[0m\u001b[1;33m(\u001b[0m\u001b[0mspam\u001b[0m \u001b[1;33m>=\u001b[0m \u001b[1;36m10\u001b[0m\u001b[1;33m,\u001b[0m \u001b[1;34m'The spam variable is less than 10.'\u001b[0m\u001b[1;33m)\u001b[0m\u001b[1;33m\u001b[0m\u001b[1;33m\u001b[0m\u001b[0m\n\u001b[0m",
      "\u001b[1;31mNameError\u001b[0m: name 'spam' is not defined"
     ]
    }
   ],
   "source": [
    "assert(spam >= 10, 'The spam variable is less than 10.')"
   ]
  },
  {
   "cell_type": "code",
   "execution_count": 1,
   "id": "aca71ea7",
   "metadata": {},
   "outputs": [
    {
     "ename": "SyntaxError",
     "evalue": "invalid syntax (<ipython-input-1-c6cf13849c9b>, line 1)",
     "output_type": "error",
     "traceback": [
      "\u001b[1;36m  File \u001b[1;32m\"<ipython-input-1-c6cf13849c9b>\"\u001b[1;36m, line \u001b[1;32m1\u001b[0m\n\u001b[1;33m    2. Write an assert statement that triggers an AssertionError if the variables eggs and bacon contain strings that are the same as each other, even if their cases are different (that is, 'hello' and 'hello' are considered the same, and 'goodbye' and 'GOODbye' are also considered the same).\u001b[0m\n\u001b[1;37m       ^\u001b[0m\n\u001b[1;31mSyntaxError\u001b[0m\u001b[1;31m:\u001b[0m invalid syntax\n"
     ]
    }
   ],
   "source": [
    "2. Write an assert statement that triggers an AssertionError if the variables eggs and bacon contain strings that are the same as each other, even if their cases are different (that is, 'hello' and 'hello' are considered the same, and 'goodbye' and 'GOODbye' are also considered the same).\n",
    "\n",
    "assert(eggs.lower() != bacon.lower(), 'The eggs and bacon variables are the same!') or assert(eggs.upper() != bacon.upper(), 'The eggs and bacon variables are the same!')"
   ]
  },
  {
   "cell_type": "code",
   "execution_count": null,
   "id": "ec32d892",
   "metadata": {},
   "outputs": [],
   "source": [
    "3. Create an assert statement that throws an AssertionError every time.\n",
    "\n"
   ]
  },
  {
   "cell_type": "code",
   "execution_count": null,
   "id": "2d10c1a1",
   "metadata": {},
   "outputs": [],
   "source": [
    "4. What are the two lines that must be present in your software in order to call logging.debug()?\n"
   ]
  },
  {
   "cell_type": "code",
   "execution_count": null,
   "id": "4649dff1",
   "metadata": {},
   "outputs": [],
   "source": [
    "5. What are the two lines that your program must have in order to have logging.debug() send a logging message to a file named programLog.txt?\n"
   ]
  },
  {
   "cell_type": "code",
   "execution_count": null,
   "id": "f6901f99",
   "metadata": {},
   "outputs": [],
   "source": [
    "6. What are the five levels of logging?\n"
   ]
  },
  {
   "cell_type": "code",
   "execution_count": null,
   "id": "aea17042",
   "metadata": {},
   "outputs": [],
   "source": [
    "7. What line of code would you add to your software to disable all logging messages?\n"
   ]
  },
  {
   "cell_type": "markdown",
   "id": "df96c7be",
   "metadata": {},
   "source": [
    "# 8.Why is using logging messages better than using print() to display the same message?\n",
    "\n",
    "You can disable logging messages without removing the logging function calls.\n",
    "You can selectively disable lower-level logging messages.\n",
    "You can create logging messages.\n",
    "Logging messages provides a timestamp.\n"
   ]
  },
  {
   "cell_type": "markdown",
   "id": "c5fb6a80",
   "metadata": {},
   "source": [
    "# 9. What are the differences between the Step Over, Step In, and Step Out buttons in the debugger?\n",
    "\n",
    "The Step In button will move the debugger into a function call.\n",
    "The Step Over button will quickly execute the function call without stepping into it.\n",
    "The Step Out button will quickly execute the rest of the code until it steps out of the function it currently is in."
   ]
  },
  {
   "cell_type": "markdown",
   "id": "584091b6",
   "metadata": {},
   "source": [
    "# 10.After you click Continue, when will the debugger stop ?\n",
    "\n",
    "click Go, the debugger will stop when it has reached the end of the program or a line with a breakpoint.\n"
   ]
  },
  {
   "cell_type": "markdown",
   "id": "61335d61",
   "metadata": {},
   "source": [
    "# 11. What is the concept of a breakpoint?\n",
    "\n",
    "breakpoint is a setting on a line of code that causes the debugger to pause when the program execution reaches the line"
   ]
  },
  {
   "cell_type": "code",
   "execution_count": null,
   "id": "bbf0868d",
   "metadata": {},
   "outputs": [],
   "source": []
  }
 ],
 "metadata": {
  "kernelspec": {
   "display_name": "Python 3",
   "language": "python",
   "name": "python3"
  },
  "language_info": {
   "codemirror_mode": {
    "name": "ipython",
    "version": 3
   },
   "file_extension": ".py",
   "mimetype": "text/x-python",
   "name": "python",
   "nbconvert_exporter": "python",
   "pygments_lexer": "ipython3",
   "version": "3.8.8"
  }
 },
 "nbformat": 4,
 "nbformat_minor": 5
}
