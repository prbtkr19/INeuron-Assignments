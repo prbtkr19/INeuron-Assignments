{
 "cells": [
  {
   "cell_type": "code",
   "execution_count": null,
   "id": "5537e2d9",
   "metadata": {},
   "outputs": [],
   "source": [
    "1. In the below elements which of them are values or an expression? eg:- values can be integer or string and expressions will be mathematical operators.\n",
    "* \n",
    "'hello'\n",
    "-87.8\n",
    "- \n",
    "/ \n",
    "+\t\n",
    "6 \n"
   ]
  },
  {
   "cell_type": "code",
   "execution_count": 2,
   "id": "7d42324b",
   "metadata": {},
   "outputs": [
    {
     "name": "stdout",
     "output_type": "stream",
     "text": [
      "values are :hello -87.8 6\n"
     ]
    }
   ],
   "source": [
    "print(\"values are :\" 'hello', -87.8 , 6)"
   ]
  },
  {
   "cell_type": "code",
   "execution_count": null,
   "id": "5f87a2e7",
   "metadata": {},
   "outputs": [],
   "source": [
    "\"expressions are :\"- , + , /"
   ]
  },
  {
   "cell_type": "markdown",
   "id": "d2ec02e6",
   "metadata": {},
   "source": [
    "## 2. What is the difference between string and variable?"
   ]
  },
  {
   "cell_type": "markdown",
   "id": "f86260e9",
   "metadata": {},
   "source": [
    "##### String: It is basically considered a datatype which contains sequence of elements typically character.\n"
   ]
  },
  {
   "cell_type": "markdown",
   "id": "98274128",
   "metadata": {},
   "source": [
    "##### variable : variable is nothing but a datatype that store a value in a memory for further utilization of that variable"
   ]
  },
  {
   "cell_type": "markdown",
   "id": "62d9a86a",
   "metadata": {},
   "source": [
    "## 3. Describe three different data types"
   ]
  },
  {
   "cell_type": "markdown",
   "id": "0cfb2722",
   "metadata": {},
   "source": [
    "##### A:Integers – This value is represented by int class. It contains positive or negative whole numbers (without fraction or decimal). In Python there is no limit to how long an integer value can be.\n"
   ]
  },
  {
   "cell_type": "markdown",
   "id": "c2b92dfe",
   "metadata": {},
   "source": [
    "##### B:A string is a collection of one or more characters put in a single quote, double-quote or triple quote. In python there is no character data type, a character is a string of length one. It is represented by str class."
   ]
  },
  {
   "cell_type": "markdown",
   "id": "508e809e",
   "metadata": {},
   "source": [
    "##### C:Lists are just like the arrays, declared in other languages which is a ordered collection of data."
   ]
  },
  {
   "cell_type": "markdown",
   "id": "0cd45e0e",
   "metadata": {},
   "source": [
    "# 4. What is an expression made up of? What do all expressions do?"
   ]
  },
  {
   "cell_type": "markdown",
   "id": "20cda1bf",
   "metadata": {},
   "source": [
    "##### An expression is a combination of operators and operands that is interpreted to produce some other value"
   ]
  },
  {
   "cell_type": "markdown",
   "id": "294a4a28",
   "metadata": {},
   "source": [
    "###### all expressions are interpreted to produce a single outcome"
   ]
  },
  {
   "cell_type": "markdown",
   "id": "19d16ad6",
   "metadata": {},
   "source": [
    "# 5. This assignment statements, like spam = 10. What is the difference between an expression and a statement?"
   ]
  },
  {
   "cell_type": "markdown",
   "id": "c4dc6162",
   "metadata": {},
   "source": [
    "An expression evaluates to a value"
   ]
  },
  {
   "cell_type": "markdown",
   "id": "6a9ef44a",
   "metadata": {},
   "source": [
    "A statement executes something"
   ]
  },
  {
   "cell_type": "code",
   "execution_count": 9,
   "id": "508355d2",
   "metadata": {},
   "outputs": [
    {
     "data": {
      "text/plain": [
       "20"
      ]
     },
     "execution_count": 9,
     "metadata": {},
     "output_type": "execute_result"
    }
   ],
   "source": [
    "#Example: \n",
    "4+ 16"
   ]
  },
  {
   "cell_type": "code",
   "execution_count": 10,
   "id": "bc3177d3",
   "metadata": {},
   "outputs": [
    {
     "name": "stdout",
     "output_type": "stream",
     "text": [
      "3\n"
     ]
    }
   ],
   "source": [
    "#statement example\n",
    "x=3\n",
    "print(x)"
   ]
  },
  {
   "cell_type": "markdown",
   "id": "d240cea0",
   "metadata": {},
   "source": [
    "# 6. After running the following code, what does the variable bacon contain?\n",
    "\n"
   ]
  },
  {
   "cell_type": "code",
   "execution_count": 11,
   "id": "e2367104",
   "metadata": {},
   "outputs": [
    {
     "data": {
      "text/plain": [
       "23"
      ]
     },
     "execution_count": 11,
     "metadata": {},
     "output_type": "execute_result"
    }
   ],
   "source": [
    "bacon = 22\n",
    "bacon + 1"
   ]
  },
  {
   "cell_type": "markdown",
   "id": "395231b2",
   "metadata": {},
   "source": [
    "# 7. What should the values of the following two terms be"
   ]
  },
  {
   "cell_type": "code",
   "execution_count": 13,
   "id": "481a9a41",
   "metadata": {},
   "outputs": [
    {
     "data": {
      "text/plain": [
       "'spamspamspam'"
      ]
     },
     "execution_count": 13,
     "metadata": {},
     "output_type": "execute_result"
    }
   ],
   "source": [
    "'spam' + 'spamspam'\n",
    "\n"
   ]
  },
  {
   "cell_type": "code",
   "execution_count": 14,
   "id": "5f6d7921",
   "metadata": {},
   "outputs": [
    {
     "data": {
      "text/plain": [
       "'spamspamspam'"
      ]
     },
     "execution_count": 14,
     "metadata": {},
     "output_type": "execute_result"
    }
   ],
   "source": [
    "'spam' * 3"
   ]
  },
  {
   "cell_type": "markdown",
   "id": "3a931122",
   "metadata": {},
   "source": [
    "# 8. Why is eggs a valid variable name while 100 is invalid?"
   ]
  },
  {
   "cell_type": "markdown",
   "id": "5286ac3b",
   "metadata": {},
   "source": [
    "variable name cannot begin with a number"
   ]
  },
  {
   "cell_type": "markdown",
   "id": "a3d84c39",
   "metadata": {},
   "source": [
    "# 9. What three functions can be used to get the integer, floating-point number, or string version of a value?"
   ]
  },
  {
   "cell_type": "markdown",
   "id": "842117fb",
   "metadata": {},
   "source": [
    " int() , float() , and str( ) functions will evaluate to the integer, floating-point number, and string versions of the value passed to them."
   ]
  },
  {
   "cell_type": "markdown",
   "id": "7d73c423",
   "metadata": {},
   "source": [
    "# 10. Why does this expression cause an error? How can you fix it?\n",
    "'I have eaten ' + 99 + ' burritos.'\n",
    "\n"
   ]
  },
  {
   "cell_type": "code",
   "execution_count": 15,
   "id": "d08a5651",
   "metadata": {},
   "outputs": [
    {
     "data": {
      "text/plain": [
       "'i have eaten99burritos'"
      ]
     },
     "execution_count": 15,
     "metadata": {},
     "output_type": "execute_result"
    }
   ],
   "source": [
    "#Error occurs beacause we are concatenating different datatypes, here 99 is not a string.\n",
    "#so solution would be\n",
    "\n",
    "'i have eaten' + '99' + 'burritos'"
   ]
  },
  {
   "cell_type": "code",
   "execution_count": null,
   "id": "b67329ca",
   "metadata": {},
   "outputs": [],
   "source": []
  }
 ],
 "metadata": {
  "kernelspec": {
   "display_name": "Python 3",
   "language": "python",
   "name": "python3"
  },
  "language_info": {
   "codemirror_mode": {
    "name": "ipython",
    "version": 3
   },
   "file_extension": ".py",
   "mimetype": "text/x-python",
   "name": "python",
   "nbconvert_exporter": "python",
   "pygments_lexer": "ipython3",
   "version": "3.8.8"
  }
 },
 "nbformat": 4,
 "nbformat_minor": 5
}
