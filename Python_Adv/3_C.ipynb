{
 "cells": [
  {
   "cell_type": "markdown",
   "id": "9a2942e7",
   "metadata": {},
   "source": [
    "### 1. What is the concept of an abstract superclass?\n",
    "\n",
    "\n",
    "- A class which contains one or more abstract methods is called an abstract class.\n",
    "- An abstract class can be considered as a blueprint for other classes.\n",
    "- It allows you to create a set of methods that must be created within any child classes built from the abstract class\n",
    "- While we are designing large functional units we use an abstract class.\n",
    "- When we want to provide a common interface for different implementations of a component, we use an abstract class. \n",
    "- By default, Python does not provide abstract classes.\n",
    "- Python comes with a module that provides the base for defining Abstract Base classes(ABC) and that module name is ABC.\n",
    "- ABC works by decorating methods of the base class as abstract and then registering concrete classes as implementations of the abstract base.\n",
    "- A method becomes abstract when decorated with the keyword @abstractmethod. \n"
   ]
  },
  {
   "cell_type": "code",
   "execution_count": 1,
   "id": "935e8383",
   "metadata": {},
   "outputs": [
    {
     "name": "stdout",
     "output_type": "stream",
     "text": [
      "I have 3 sides\n",
      "I have 4 sides\n",
      "I have 5 sides\n",
      "I have 6 sides\n"
     ]
    }
   ],
   "source": [
    "# Python program showing\n",
    "# abstract base class work\n",
    "\n",
    "from abc import ABC, abstractmethod\n",
    "\n",
    "class Polygon(ABC):\n",
    "\n",
    "    @abstractmethod\n",
    "    def noofsides(self):\n",
    "        pass\n",
    "\n",
    "class Triangle(Polygon):\n",
    "\n",
    "    # overriding abstract method\n",
    "    def noofsides(self):\n",
    "        print(\"I have 3 sides\")\n",
    "\n",
    "class Pentagon(Polygon):\n",
    "\n",
    "    # overriding abstract method\n",
    "    def noofsides(self):\n",
    "        print(\"I have 5 sides\")\n",
    "\n",
    "class Hexagon(Polygon):\n",
    "\n",
    "    # overriding abstract method\n",
    "    def noofsides(self):\n",
    "        print(\"I have 6 sides\")\n",
    "\n",
    "class Quadrilateral(Polygon):\n",
    "\n",
    "    # overriding abstract method\n",
    "    def noofsides(self):\n",
    "        print(\"I have 4 sides\")\n",
    "\n",
    "# Driver code\n",
    "R = Triangle()\n",
    "R.noofsides()\n",
    "\n",
    "K = Quadrilateral()\n",
    "K.noofsides()\n",
    "\n",
    "R = Pentagon()\n",
    "R.noofsides()\n",
    "\n",
    "K = Hexagon()\n",
    "K.noofsides()\n"
   ]
  },
  {
   "cell_type": "markdown",
   "id": "064600bd",
   "metadata": {},
   "source": [
    "### 2. What happens when a class statement's top level contains a basic assignment statement?\n",
    "\n",
    "- __main__ is the name of the environment where top-level code is run\n",
    "\n",
    "- Top-level code” is the first user-specified Python module that starts running.\n",
    "- It’s “top-level” because it imports all other modules that the program needs. \n",
    "- Sometimes “top-level code” is called an entry point to the application.\n",
    "- if __name__ == '__main__' code block comes in handy.\n",
    "- Code within this block won’t run unless the module is executed in the top-level environment"
   ]
  },
  {
   "cell_type": "markdown",
   "id": "de5d8281",
   "metadata": {},
   "source": [
    "### 3. Why does a class need to manually call a superclass's __init__ method?\n",
    "\n",
    "\n",
    "- The main reason for always calling base class _init__ method is that base class may typically create member variable and initialize them to defaults.\n",
    "- So if you don't call base class init, none of that code would be executed and you would end up with base class that has no member variables.\n",
    "\n"
   ]
  },
  {
   "cell_type": "markdown",
   "id": "1c2c6613",
   "metadata": {},
   "source": [
    "### 4. How can you augment, instead of completely replacing, an inherited method?\n",
    "\n",
    "- A more sophisticated way to augment an inherited method involves forwarding.\n",
    "- Message forwarding allows you to augment an inherited method in such a way that it can perform its inherited action and some new action.\n",
    "\n"
   ]
  },
  {
   "cell_type": "markdown",
   "id": "6dabd1c3",
   "metadata": {},
   "source": [
    "### 5. How is the local scope of a class different from that of a function?\n",
    "- local scope of function is the variable defined inside function\n",
    "- Class scope defines the accessibility or visibility of class variables or functions\n"
   ]
  },
  {
   "cell_type": "code",
   "execution_count": null,
   "id": "b9f50a96",
   "metadata": {},
   "outputs": [],
   "source": []
  }
 ],
 "metadata": {
  "kernelspec": {
   "display_name": "Python 3 (ipykernel)",
   "language": "python",
   "name": "python3"
  },
  "language_info": {
   "codemirror_mode": {
    "name": "ipython",
    "version": 3
   },
   "file_extension": ".py",
   "mimetype": "text/x-python",
   "name": "python",
   "nbconvert_exporter": "python",
   "pygments_lexer": "ipython3",
   "version": "3.8.8"
  }
 },
 "nbformat": 4,
 "nbformat_minor": 5
}
