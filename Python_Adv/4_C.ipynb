{
 "cells": [
  {
   "cell_type": "code",
   "execution_count": null,
   "id": "5d311e91",
   "metadata": {},
   "outputs": [],
   "source": [
    "#Q1. Which two operator overloading methods can you use in your classes to support iteration?\n",
    "\n",
    "\n",
    "\n",
    "\n"
   ]
  },
  {
   "cell_type": "code",
   "execution_count": null,
   "id": "80073fc1",
   "metadata": {},
   "outputs": [],
   "source": [
    "#Q2. In what contexts do the two operator overloading methods manage printing?\n",
    "\n",
    "\n",
    "\n"
   ]
  },
  {
   "cell_type": "markdown",
   "id": "c4960fba",
   "metadata": {},
   "source": [
    "### Q3. In a class, how do you intercept slice operations?\n",
    "\n",
    "- The slice() method returns a portion of an iterable as an object of the slice class based on the specified range.\n",
    "- It can be used with string, list, tuple, set, bytes, or range objects or custom class object that implements sequence methods __getitem__() and __len__() methods.\n",
    "\n"
   ]
  },
  {
   "cell_type": "code",
   "execution_count": 3,
   "id": "dc392e37",
   "metadata": {},
   "outputs": [
    {
     "name": "stdout",
     "output_type": "stream",
     "text": [
      " After concatenation : jupyternotebook\n"
     ]
    }
   ],
   "source": [
    "#Q4. In a class, how do you capture in-place addition?\n",
    "#In-place operation is an operation that changes directly the content of a given linear algebra, vector, matrices(Tensor) without making a copy. The operators which helps to do the operation is called in-place operator.\n",
    "#iconcat() This function is used to concatenate two strings\n",
    "import operator\n",
    "a= \"jupyter\"\n",
    "b = \"notebook\"\n",
    "t =operator.iconcat(a, b)\n",
    "print (\" After concatenation : \", end=\"\") \n",
    "print (t) \n"
   ]
  },
  {
   "cell_type": "markdown",
   "id": "e0d8e01c",
   "metadata": {},
   "source": [
    "### Q5. When is it appropriate to use operator overloading?\n",
    "\n",
    "- Operator overloading is mostly useful when you're making a new class that falls into an existing \"Abstract Base Class\" (ABC)\n",
    "- indeed, many of the ABCs in standard library module collections rely on the presence of certain special methods (and special methods, one with names starting and ending with double underscores AKA \"dunders\", are exactly the way you perform operator overloading in Python).\n",
    "- This provides good starting guidance.\n"
   ]
  },
  {
   "cell_type": "code",
   "execution_count": null,
   "id": "2ac3b68a",
   "metadata": {},
   "outputs": [],
   "source": []
  },
  {
   "cell_type": "code",
   "execution_count": null,
   "id": "1d170e75",
   "metadata": {},
   "outputs": [],
   "source": []
  }
 ],
 "metadata": {
  "kernelspec": {
   "display_name": "Python 3 (ipykernel)",
   "language": "python",
   "name": "python3"
  },
  "language_info": {
   "codemirror_mode": {
    "name": "ipython",
    "version": 3
   },
   "file_extension": ".py",
   "mimetype": "text/x-python",
   "name": "python",
   "nbconvert_exporter": "python",
   "pygments_lexer": "ipython3",
   "version": "3.8.8"
  }
 },
 "nbformat": 4,
 "nbformat_minor": 5
}
