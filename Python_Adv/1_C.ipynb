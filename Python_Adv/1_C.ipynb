{
 "cells": [
  {
   "cell_type": "markdown",
   "id": "6db9e4f4",
   "metadata": {},
   "source": [
    "#### What is the purpose of Python's OOP?\n",
    "- purpose of Python's OOP is structuring a program by bundling related properties and behaviors into individual objects.\n",
    "- OOP is about code reuse \n",
    "-  minimize redundancy and program by customizing what already exists instead of changing code in place or starting from scratch\n"
   ]
  },
  {
   "cell_type": "markdown",
   "id": "f08269c8",
   "metadata": {},
   "source": [
    "#### Q2. Where does an inheritance search look for an attribute?\n",
    "\n",
    "- An inheritance search looks for an attribute first in the instance object,\n",
    "- then in the class the instance was created from, then in all higher superclasses,\n",
    "- progressing from left to right (by default). The search stops at the first place the attribute is found\n",
    "\n"
   ]
  },
  {
   "cell_type": "markdown",
   "id": "20dbe4e3",
   "metadata": {},
   "source": [
    "#### Q3. How do you distinguish between a class object and an instance object?\n",
    "\n",
    "class:\n",
    "    - A class is a template for creating objects in program.\n",
    "    - A class does not allocate memory space when it is created.\n",
    "object:\n",
    "    - The object is an instance of a class.\n",
    "    - Object allocates memory space whenever they are created.\n",
    "\n"
   ]
  },
  {
   "cell_type": "markdown",
   "id": "879b9db8",
   "metadata": {},
   "source": [
    "#### Q4. What makes the first argument in a class’s method function special?\n",
    "\n",
    "- The first argument of every class method, including init, is always a reference to the current instance of the class. \n",
    "- By convention, this argument is always named self.\n",
    "- In the init method, self refers to the newly created object;\n",
    "- in other class methods, it refers to the instance whose method was called.\n",
    "\n"
   ]
  },
  {
   "cell_type": "markdown",
   "id": "2ab99c72",
   "metadata": {},
   "source": [
    "#### Q5. What is the purpose of the __init__ method?\n",
    "\n",
    "- The __init__ method is the Python equivalent of the C++ constructor in an object-oriented approach.\n",
    "- The __init__  function is called every time an object is created from a class.\n",
    "- The __init__ method lets the class initialize the object’s attributes and serves no other purpose.\n",
    "- It is only used within classes\n",
    "\n"
   ]
  },
  {
   "cell_type": "markdown",
   "id": "b1aeab20",
   "metadata": {},
   "source": [
    "#### Q6. What is the process for creating a class instance?\n",
    "\n",
    "- Call ClassName() to create a new instance of the class ClassName . \n",
    "- To pass parameters to the class instance, the class must have an __init__() method.\n",
    "- Pass the parameters in the constructor of the class.\n",
    "\n",
    "\n"
   ]
  },
  {
   "cell_type": "markdown",
   "id": "58c0a836",
   "metadata": {},
   "source": [
    "#### Q7. What is the process for creating a class?\n",
    "\n",
    "\n",
    "- to create a class use the keyword class\n"
   ]
  },
  {
   "cell_type": "markdown",
   "id": "b58f4325",
   "metadata": {},
   "source": [
    "#### Q8. How would you define the superclasses of a class?\n",
    "\n",
    "- A superclass is the class from which many subclasses can be created. The subclasses inherit the characteristics of a superclass. \n",
    "- The superclass is also known as the parent class or base class\n",
    "- The super() function is used to give access to methods and properties of a parent or sibling class.\n",
    "- The super function returns a temporary object of the superclass that allows access to all of its methods to its child class."
   ]
  },
  {
   "cell_type": "code",
   "execution_count": null,
   "id": "b11c55d8",
   "metadata": {},
   "outputs": [],
   "source": [
    "# Python program to demonstrate\n",
    "# superclass\n",
    "class Animals:\n",
    "    \n",
    "# Initializing constructor\n",
    "    def __init__(self):\n",
    "        self.legs = 4\n",
    "        self.domestic = True\n",
    "        self.tail = True\n",
    "        self.mammals = True\n",
    "\n",
    "    def isMammal(self):\n",
    "        if self.mammals:\n",
    "            print(\"It is a mammal.\")\n",
    "\n",
    "    def isDomestic(self):\n",
    "        if self.domestic:\n",
    "            print(\"It is a domestic animal.\")\n",
    "#defining subclass\n",
    "#uses super function to access superclass methods and variables\n",
    "class Dogs(Animals):\n",
    "    def __init__(self):\n",
    "        super().__init__()\n",
    "\n",
    "    def isMammal(self):\n",
    "        super().isMammal()\n",
    "\n",
    "class Horses(Animals):\n",
    "    def __init__(self):\n",
    "        super().__init__()\n",
    "\n",
    "    def hasTailandLegs(self):\n",
    "        if self.tail and self.legs == 4:\n",
    "            print(\"Has legs and tail\")\n",
    "\n",
    "\n",
    "Tom = Dogs()\n",
    "Tom.isMammal()\n",
    "Bruno = Horses()\n",
    "Bruno.hasTailandLegs()\n"
   ]
  }
 ],
 "metadata": {
  "kernelspec": {
   "display_name": "Python 3 (ipykernel)",
   "language": "python",
   "name": "python3"
  },
  "language_info": {
   "codemirror_mode": {
    "name": "ipython",
    "version": 3
   },
   "file_extension": ".py",
   "mimetype": "text/x-python",
   "name": "python",
   "nbconvert_exporter": "python",
   "pygments_lexer": "ipython3",
   "version": "3.8.8"
  }
 },
 "nbformat": 4,
 "nbformat_minor": 5
}
