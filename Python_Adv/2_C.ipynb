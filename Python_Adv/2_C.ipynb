{
 "cells": [
  {
   "cell_type": "markdown",
   "id": "72dbbfc4",
   "metadata": {},
   "source": [
    "### Q1. What is the relationship between classes and modules?\n",
    "\n",
    "- The main difference between classes and modules is that classes can be instantiated as objects\n",
    "- while standard modules cannot. Because there is only one copy of a standard module's data\n",
    "- when one part of your program changes a public variable in a standard module, any other part of the program gets the same value if it then reads that variable.\n",
    "- In contrast, object data exists separately for each instantiated object.\n",
    "- Another difference is that unlike standard modules, classes can implement interfaces.\n",
    "\n"
   ]
  },
  {
   "cell_type": "markdown",
   "id": "627ab1ab",
   "metadata": {},
   "source": [
    "### Q2. How do you make instances and classes?\n",
    "\n",
    "- To create instances of a class, you call the class using class name and pass in whatever arguments its __init__ method accepts.\n",
    "- a class can be created by using the keyword class, followed by the class name. \n"
   ]
  },
  {
   "cell_type": "markdown",
   "id": "0f71f65c",
   "metadata": {},
   "source": [
    "### Q3. Where and how should be class attributes created?\n",
    "\n",
    "- A class attribute is shared by all instances of the class.\n",
    "- To define a class attribute, you place it outside of the __init__() method.\n",
    "- Use class attributes for storing class contants, track data across all instances, and setting default values for all instances of the class\n"
   ]
  },
  {
   "cell_type": "markdown",
   "id": "ae6a872b",
   "metadata": {},
   "source": [
    "### Q4. Where and how are instance attributes created?\n",
    "\n",
    "- Instance attributes are attributes or properties attached to an instance of a class.\n",
    "- Instance attributes are defined in the constructor. Defined directly inside a class.\n",
    "- Defined inside a constructor using the self parameter"
   ]
  },
  {
   "cell_type": "markdown",
   "id": "ddc03fa1",
   "metadata": {},
   "source": [
    "### Q5. What does the term \"self\" in a Python class mean?\n",
    "\n",
    "- self represents the instance of the class.\n",
    "- By using the “self” we can access the attributes and methods of the class in python.\n",
    "- It binds the attributes with the given arguments. The reason you need to use self. is because Python does not use the @ syntax to refer to instance attributes\n",
    "\n",
    "\n"
   ]
  },
  {
   "cell_type": "markdown",
   "id": "d08f2f5d",
   "metadata": {},
   "source": [
    "### Q6. How does a Python class handle operator overloading?\n",
    "\n",
    "- The operator overloading in Python means provide extended meaning beyond their predefined operational meaning.\n",
    "- Such as, we use the \"+\" operator for adding two integers as well as joining two strings or merging two lists.\n",
    "- We can achieve this as the \"+\" operator is overloaded by the \"int\" class and \"str\" class.\n",
    "\n"
   ]
  },
  {
   "cell_type": "markdown",
   "id": "46b9ce79",
   "metadata": {},
   "source": [
    " 5 + 4"
   ]
  },
  {
   "cell_type": "code",
   "execution_count": 2,
   "id": "ebebf0b5",
   "metadata": {},
   "outputs": [
    {
     "data": {
      "text/plain": [
       "'prabhatkumar'"
      ]
     },
     "execution_count": 2,
     "metadata": {},
     "output_type": "execute_result"
    }
   ],
   "source": [
    "\"prabhat\"+\"kumar\""
   ]
  },
  {
   "cell_type": "code",
   "execution_count": 4,
   "id": "dd0941ae",
   "metadata": {},
   "outputs": [
    {
     "ename": "TypeError",
     "evalue": "unsupported operand type(s) for +: 'Point' and 'Point'",
     "output_type": "error",
     "traceback": [
      "\u001b[1;31m---------------------------------------------------------------------------\u001b[0m",
      "\u001b[1;31mTypeError\u001b[0m                                 Traceback (most recent call last)",
      "Input \u001b[1;32mIn [4]\u001b[0m, in \u001b[0;36m<cell line: 12>\u001b[1;34m()\u001b[0m\n\u001b[0;32m     10\u001b[0m p1 \u001b[38;5;241m=\u001b[39m Point(\u001b[38;5;241m1\u001b[39m, \u001b[38;5;241m2\u001b[39m)\n\u001b[0;32m     11\u001b[0m p2 \u001b[38;5;241m=\u001b[39m Point(\u001b[38;5;241m2\u001b[39m, \u001b[38;5;241m3\u001b[39m)\n\u001b[1;32m---> 12\u001b[0m \u001b[38;5;28mprint\u001b[39m(\u001b[43mp1\u001b[49m\u001b[38;5;241;43m+\u001b[39;49m\u001b[43mp2\u001b[49m)\n",
      "\u001b[1;31mTypeError\u001b[0m: unsupported operand type(s) for +: 'Point' and 'Point'"
     ]
    }
   ],
   "source": [
    "#Q7. When do you consider allowing operator overloading of your classes?\n",
    "\n",
    "#suppose we want to add two objects\n",
    "class Point:\n",
    "    def __init__(self, x, y):\n",
    "        self.x = x\n",
    "        self.y = y\n",
    "\n",
    "\n",
    "p1 = Point(1, 2)\n",
    "p2 = Point(2, 3)\n",
    "print(p1+p2)\n",
    "\n",
    "#Here, we can see that a TypeError was raised, since Python didn't know how to add two Point objects together."
   ]
  },
  {
   "cell_type": "code",
   "execution_count": 13,
   "id": "c5e37aca",
   "metadata": {},
   "outputs": [
    {
     "name": "stdout",
     "output_type": "stream",
     "text": [
      "(1,2)\n",
      "(3,5)\n"
     ]
    }
   ],
   "source": [
    "#so we can achieve this task in Python through operator overloading.\n",
    "#We can define a __str__() method in our class that controls how the object gets printed\n",
    "#To overload the + operator, we will need to implement __add__() function in the class.\n",
    "\n",
    "class Point:\n",
    "    def __init__(self, x, y):\n",
    "        self.x = x\n",
    "        self.y = y\n",
    "\n",
    "    def __str__(self):#used for printing our attributes \n",
    "        return \"({},{})\".format(self.x, self.y)\n",
    "\n",
    "    def __add__(self, b):\n",
    "        x = self.x + b.x\n",
    "        y = self.y + b.y\n",
    "        return Point(x, y)\n",
    "\n",
    "\n",
    "p1 = Point(1, 2)\n",
    "print(p1)\n",
    "p2 = Point(2, 3)\n",
    "\n",
    "print(p1+p2)"
   ]
  },
  {
   "cell_type": "markdown",
   "id": "a04161c5",
   "metadata": {},
   "source": [
    "### Q8. What is the most popular form of operator overloading?\n",
    "\n",
    "- very popular and convenient example is the Addition (+) operator\n",
    "\n"
   ]
  },
  {
   "cell_type": "markdown",
   "id": "1400c3ee",
   "metadata": {},
   "source": [
    "### Q9. What are the two most important concepts to grasp in order to comprehend Python OOP cod\n",
    "\n",
    "-Both inheritance and polymorphism are key ingredients for designing robust, flexible, and easy-to-maintain software"
   ]
  },
  {
   "cell_type": "code",
   "execution_count": null,
   "id": "568446de",
   "metadata": {},
   "outputs": [],
   "source": []
  }
 ],
 "metadata": {
  "kernelspec": {
   "display_name": "Python 3 (ipykernel)",
   "language": "python",
   "name": "python3"
  },
  "language_info": {
   "codemirror_mode": {
    "name": "ipython",
    "version": 3
   },
   "file_extension": ".py",
   "mimetype": "text/x-python",
   "name": "python",
   "nbconvert_exporter": "python",
   "pygments_lexer": "ipython3",
   "version": "3.8.8"
  }
 },
 "nbformat": 4,
 "nbformat_minor": 5
}
