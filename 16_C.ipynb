{
 "cells": [
  {
   "cell_type": "code",
   "execution_count": 3,
   "id": "514f98c6-acb3-4ea0-b62d-eeedfaf4e7af",
   "metadata": {},
   "outputs": [
    {
     "data": {
      "text/plain": [
       "[1996, 1997, 1998, 1999, 2000]"
      ]
     },
     "execution_count": 3,
     "metadata": {},
     "output_type": "execute_result"
    }
   ],
   "source": [
    "#1Create a list called years_list, starting with the year of your birth, and each year thereafter until the year of your fifth birthday. For example, if you were born in 1980. the list would be years_list = [1980, 1981, 1982, 1983, 1984, 1985].\n",
    "\n",
    "year_list = [1996,1997,1998,1999,2000]\n",
    "year_list"
   ]
  },
  {
   "cell_type": "code",
   "execution_count": 15,
   "id": "78d0f9c2",
   "metadata": {},
   "outputs": [
    {
     "data": {
      "text/plain": [
       "[1996, 1997, 1998, 1999, 2000]"
      ]
     },
     "execution_count": 15,
     "metadata": {},
     "output_type": "execute_result"
    }
   ],
   "source": [
    "year_list = [i for i in range(1996,1996+5)]\n",
    "year_list"
   ]
  },
  {
   "cell_type": "code",
   "execution_count": 4,
   "id": "9da0d11e",
   "metadata": {},
   "outputs": [
    {
     "data": {
      "text/plain": [
       "1998"
      ]
     },
     "execution_count": 4,
     "metadata": {},
     "output_type": "execute_result"
    }
   ],
   "source": [
    "#2. In which year in years_list was your third birthday? Remember, you were 0 years of age for your first year.\n",
    "year_list[2]"
   ]
  },
  {
   "cell_type": "code",
   "execution_count": 5,
   "id": "d02c7b67",
   "metadata": {},
   "outputs": [
    {
     "data": {
      "text/plain": [
       "1996"
      ]
     },
     "execution_count": 5,
     "metadata": {},
     "output_type": "execute_result"
    }
   ],
   "source": [
    "#3.In the years list, which year were you the oldest?\n",
    "\n",
    "year_list[0]"
   ]
  },
  {
   "cell_type": "code",
   "execution_count": 12,
   "id": "d268f729",
   "metadata": {},
   "outputs": [
    {
     "data": {
      "text/plain": [
       "['mozzarella', 'cinderella', 'salmonella']"
      ]
     },
     "execution_count": 12,
     "metadata": {},
     "output_type": "execute_result"
    }
   ],
   "source": [
    "#4. Make a list called things with these three strings as elements: \"mozzarella\", \"cinderella\", \"salmonella\".\n",
    "things = [\"mozzarella\", \"cinderella\", \"salmonella\"]\n",
    "things"
   ]
  },
  {
   "cell_type": "code",
   "execution_count": 13,
   "id": "96211095",
   "metadata": {},
   "outputs": [
    {
     "name": "stdout",
     "output_type": "stream",
     "text": [
      "Mozzarella\n",
      "Cinderella\n",
      "Salmonella\n"
     ]
    },
    {
     "data": {
      "text/plain": [
       "['mozzarella', 'cinderella', 'salmonella']"
      ]
     },
     "execution_count": 13,
     "metadata": {},
     "output_type": "execute_result"
    }
   ],
   "source": [
    "for i in things:\n",
    "    print(i.capitalize())\n",
    "things"
   ]
  },
  {
   "cell_type": "code",
   "execution_count": 10,
   "id": "e66ea841",
   "metadata": {},
   "outputs": [
    {
     "data": {
      "text/plain": [
       "'Cinderella'"
      ]
     },
     "execution_count": 10,
     "metadata": {},
     "output_type": "execute_result"
    }
   ],
   "source": [
    "#5. Capitalize the element in things that refers to a person and then print the list. Did it change the element in the list?\n",
    "things[0].capitalize()\n",
    "things[1].title()"
   ]
  },
  {
   "cell_type": "code",
   "execution_count": 1,
   "id": "cf452f62",
   "metadata": {},
   "outputs": [
    {
     "data": {
      "text/plain": [
       "['Groucho', 'Chico,', 'Harpo']"
      ]
     },
     "execution_count": 1,
     "metadata": {},
     "output_type": "execute_result"
    }
   ],
   "source": [
    "# 6. Make a surprise list with the elements \"Groucho,\" \"Chico,\" and \"Harpo.\"\n",
    "\n",
    "surprise = [\"Groucho\", \"Chico,\", \"Harpo\"]\n",
    "surprise"
   ]
  },
  {
   "cell_type": "code",
   "execution_count": 8,
   "id": "79c933df",
   "metadata": {},
   "outputs": [
    {
     "name": "stdout",
     "output_type": "stream",
     "text": [
      "before: harpo\n",
      "after reverse: oprah\n",
      "lower: oprah\n"
     ]
    },
    {
     "data": {
      "text/plain": [
       "'Oprah'"
      ]
     },
     "execution_count": 8,
     "metadata": {},
     "output_type": "execute_result"
    }
   ],
   "source": [
    "#7. Lowercase the last element of the surprise list, reverse it, and then capitalize it.\n",
    "\n",
    "    \n",
    "print(\"before:\",surprise[2].lower())\n",
    "#reverse it\n",
    "print(\"after reverse:\",surprise[2].lower()[::-1])\n",
    "\n",
    "a = surprise[2].lower()[::-1]\n",
    "print(\"lower:\",a)\n",
    "\n",
    "\n",
    "#capitalize\n",
    "a.capitalize()"
   ]
  },
  {
   "cell_type": "code",
   "execution_count": 16,
   "id": "f61eb918",
   "metadata": {},
   "outputs": [
    {
     "data": {
      "text/plain": [
       "{'dog': 'chien', 'cat': 'chat', 'walrus': 'morse'}"
      ]
     },
     "execution_count": 16,
     "metadata": {},
     "output_type": "execute_result"
    }
   ],
   "source": [
    "#8. Make an English-to-French dictionary called e2f and print it. Here are your starter words: dog is chien, cat is chat, and walrus is morse.\n",
    "\n",
    "e2f = {'dog':'chien','cat':'chat','walrus':'morse'}\n",
    "e2f"
   ]
  },
  {
   "cell_type": "code",
   "execution_count": 22,
   "id": "0ed82b7d",
   "metadata": {},
   "outputs": [
    {
     "data": {
      "text/plain": [
       "dict_items([('dog', 'chien'), ('cat', 'chat'), ('walrus', 'morse')])"
      ]
     },
     "execution_count": 22,
     "metadata": {},
     "output_type": "execute_result"
    }
   ],
   "source": [
    "e2f.items()"
   ]
  },
  {
   "cell_type": "code",
   "execution_count": 18,
   "id": "1da64ba7",
   "metadata": {},
   "outputs": [
    {
     "data": {
      "text/plain": [
       "'morse'"
      ]
     },
     "execution_count": 18,
     "metadata": {},
     "output_type": "execute_result"
    }
   ],
   "source": [
    "#9. Write the French word for walrus in your three-word dictionary e2f.\n",
    "e2f['walrus']"
   ]
  },
  {
   "cell_type": "code",
   "execution_count": 23,
   "id": "1ea2d294",
   "metadata": {},
   "outputs": [
    {
     "data": {
      "text/plain": [
       "{'chien': 'dog', 'chat': 'cat', 'morse': 'walrus'}"
      ]
     },
     "execution_count": 23,
     "metadata": {},
     "output_type": "execute_result"
    }
   ],
   "source": [
    "# 10. Make a French-to-English dictionary called f2e from e2f. Use the items method.\n",
    "\n",
    "f2e = dict([(key,value) for value,key in e2f.items()])\n",
    "f2e"
   ]
  },
  {
   "cell_type": "code",
   "execution_count": 24,
   "id": "31272f78",
   "metadata": {},
   "outputs": [
    {
     "data": {
      "text/plain": [
       "'dog'"
      ]
     },
     "execution_count": 24,
     "metadata": {},
     "output_type": "execute_result"
    }
   ],
   "source": [
    "#11. Print the English version of the French word chien using f2e.\n",
    "f2e['chien']"
   ]
  },
  {
   "cell_type": "code",
   "execution_count": 26,
   "id": "4db1cf12",
   "metadata": {},
   "outputs": [
    {
     "data": {
      "text/plain": [
       "dict_keys(['dog', 'cat', 'walrus'])"
      ]
     },
     "execution_count": 26,
     "metadata": {},
     "output_type": "execute_result"
    }
   ],
   "source": [
    "# 12. Make and print a set of English words from the keys in e2f.\n",
    "e2f.keys()"
   ]
  },
  {
   "cell_type": "code",
   "execution_count": 28,
   "id": "bf3b9c4a",
   "metadata": {},
   "outputs": [
    {
     "data": {
      "text/plain": [
       "{'animals': {'cat': ['Henri', 'Grumpy', 'Lucy'], 'octopi': '', 'emus': ''},\n",
       " 'plants': '',\n",
       " 'other': ''}"
      ]
     },
     "execution_count": 28,
     "metadata": {},
     "output_type": "execute_result"
    }
   ],
   "source": [
    "#13. Make a multilevel dictionary called life. Use these strings for the topmost keys: 'animals', 'plants', and 'other'. Make the 'animals' key refer to another dictionary with the keys 'cats', 'octopi', and 'emus'. Make the 'cats' key refer to a list of strings with the values 'Henri', 'Grumpy', and 'Lucy'. Make all the other keys refer to empty dictionaries.\n",
    "\n",
    "life ={'animals':{'cat':['Henri', 'Grumpy', 'Lucy'], 'octopi':'', 'emus':''},\n",
    "       'plants' :'',\n",
    "       'other' :'' }\n",
    "life"
   ]
  },
  {
   "cell_type": "code",
   "execution_count": 29,
   "id": "ccb2c09e",
   "metadata": {},
   "outputs": [
    {
     "data": {
      "text/plain": [
       "dict_keys(['animals', 'plants', 'other'])"
      ]
     },
     "execution_count": 29,
     "metadata": {},
     "output_type": "execute_result"
    }
   ],
   "source": [
    "#14. Print the top-level keys of life.\n",
    "life.keys()"
   ]
  },
  {
   "cell_type": "code",
   "execution_count": 30,
   "id": "d908680b",
   "metadata": {},
   "outputs": [
    {
     "data": {
      "text/plain": [
       "dict_keys(['cat', 'octopi', 'emus'])"
      ]
     },
     "execution_count": 30,
     "metadata": {},
     "output_type": "execute_result"
    }
   ],
   "source": [
    "#15. Print the keys for life['animals'].\n",
    "life['animals'].keys()"
   ]
  },
  {
   "cell_type": "code",
   "execution_count": 31,
   "id": "bd351428",
   "metadata": {},
   "outputs": [
    {
     "data": {
      "text/plain": [
       "['Henri', 'Grumpy', 'Lucy']"
      ]
     },
     "execution_count": 31,
     "metadata": {},
     "output_type": "execute_result"
    }
   ],
   "source": [
    "# 16. Print the values for life['animals']['cats']\n",
    "\n",
    "life['animals']['cat']"
   ]
  },
  {
   "cell_type": "code",
   "execution_count": 9,
   "id": "26a615ea",
   "metadata": {},
   "outputs": [
    {
     "data": {
      "text/plain": [
       "[1, 2, 3, 4, 5, 6]"
      ]
     },
     "execution_count": 9,
     "metadata": {},
     "output_type": "execute_result"
    }
   ],
   "source": [
    "years_list = [i for i in range(1,1+6)]\n",
    "years_list"
   ]
  },
  {
   "cell_type": "code",
   "execution_count": 10,
   "id": "c919c40b",
   "metadata": {},
   "outputs": [
    {
     "data": {
      "text/plain": [
       "[0, 1, 2, 3, 4, 5, 6, 7, 8, 9]"
      ]
     },
     "execution_count": 10,
     "metadata": {},
     "output_type": "execute_result"
    }
   ],
   "source": [
    "a=[i for i in range(10)]\n",
    "a"
   ]
  },
  {
   "cell_type": "code",
   "execution_count": null,
   "id": "c2203736",
   "metadata": {},
   "outputs": [],
   "source": []
  }
 ],
 "metadata": {
  "kernelspec": {
   "display_name": "Python 3 (ipykernel)",
   "language": "python",
   "name": "python3"
  },
  "language_info": {
   "codemirror_mode": {
    "name": "ipython",
    "version": 3
   },
   "file_extension": ".py",
   "mimetype": "text/x-python",
   "name": "python",
   "nbconvert_exporter": "python",
   "pygments_lexer": "ipython3",
   "version": "3.8.8"
  }
 },
 "nbformat": 4,
 "nbformat_minor": 5
}
