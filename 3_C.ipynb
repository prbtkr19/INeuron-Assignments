{
 "cells": [
  {
   "cell_type": "markdown",
   "id": "fbe1182c",
   "metadata": {},
   "source": [
    "# 1. Why are functions advantageous to have in your programs?"
   ]
  },
  {
   "cell_type": "markdown",
   "id": "b1641551",
   "metadata": {},
   "source": [
    "#### below are the advantages of using function to our code\n"
   ]
  },
  {
   "cell_type": "markdown",
   "id": "a6942472",
   "metadata": {},
   "source": [
    "###### 1.Reducing duplication of code\n"
   ]
  },
  {
   "cell_type": "markdown",
   "id": "73dd92cd",
   "metadata": {},
   "source": [
    "###### 2. breaking complex problem into simpler pieces\n"
   ]
  },
  {
   "cell_type": "markdown",
   "id": "0a33d4c9",
   "metadata": {},
   "source": [
    "###### 3.code reusability\n"
   ]
  },
  {
   "cell_type": "markdown",
   "id": "cd8cb14c",
   "metadata": {},
   "source": [
    "###### 4.takes less memory space\n"
   ]
  },
  {
   "cell_type": "markdown",
   "id": "5251aac8",
   "metadata": {},
   "source": [
    "###### 5.improves clarity of code"
   ]
  },
  {
   "cell_type": "markdown",
   "id": "5ab09ffe",
   "metadata": {},
   "source": [
    "# 2. When does the code in a function run: when it's specified or when it's called?"
   ]
  },
  {
   "cell_type": "markdown",
   "id": "3147d647",
   "metadata": {},
   "source": [
    "###### code in a function runs when we call that particular function."
   ]
  },
  {
   "cell_type": "markdown",
   "id": "9a3d7331",
   "metadata": {},
   "source": [
    "# 3. What statement creates a function?"
   ]
  },
  {
   "cell_type": "markdown",
   "id": "b22f7161",
   "metadata": {},
   "source": [
    "###### A reserved keyword def used to create user defined function. It consists of name of the function followed by list of arguments\n",
    "enclosed in a parenthesis."
   ]
  },
  {
   "cell_type": "code",
   "execution_count": null,
   "id": "31e37df9",
   "metadata": {},
   "outputs": [],
   "source": [
    "4. What is the difference between a function and a function call?"
   ]
  }
 ],
 "metadata": {
  "kernelspec": {
   "display_name": "Python 3",
   "language": "python",
   "name": "python3"
  },
  "language_info": {
   "codemirror_mode": {
    "name": "ipython",
    "version": 3
   },
   "file_extension": ".py",
   "mimetype": "text/x-python",
   "name": "python",
   "nbconvert_exporter": "python",
   "pygments_lexer": "ipython3",
   "version": "3.8.8"
  }
 },
 "nbformat": 4,
 "nbformat_minor": 5
}
